{
 "cells": [
  {
   "cell_type": "markdown",
   "metadata": {},
   "source": [
    "### Working with our dictionary"
   ]
  },
  {
   "cell_type": "markdown",
   "metadata": {},
   "source": [
    "Once again, here is the code we used to retrieve a receipt. "
   ]
  },
  {
   "cell_type": "code",
   "execution_count": 2,
   "metadata": {},
   "outputs": [],
   "source": [
    "import requests\n",
    "response = requests.get(\"https://data.texas.gov/resource/naix-2893.json?location_name=MAX%27S%20WINE%20DIVE\")\n",
    "restaurant_receipts = response.json()\n",
    "\n",
    "receipt = restaurant_receipts[0]"
   ]
  },
  {
   "cell_type": "markdown",
   "metadata": {},
   "source": [
    "> Press shift + enter to run the cell above."
   ]
  },
  {
   "cell_type": "markdown",
   "metadata": {},
   "source": [
    "And remember that this reciept is a dictionary."
   ]
  },
  {
   "cell_type": "code",
   "execution_count": 3,
   "metadata": {},
   "outputs": [
    {
     "data": {
      "text/plain": [
       "dict"
      ]
     },
     "execution_count": 3,
     "metadata": {},
     "output_type": "execute_result"
    }
   ],
   "source": [
    "type(receipt)"
   ]
  },
  {
   "cell_type": "markdown",
   "metadata": {},
   "source": [
    "Ok, so let's take a look at the attributes available in our dictionary.  Return all of the keys available, and assign them to the variable `receipt_attributes`."
   ]
  },
  {
   "cell_type": "code",
   "execution_count": 1,
   "metadata": {},
   "outputs": [],
   "source": [
    "receipt_attributes = None\n",
    "receipt_attributes\n",
    "\n",
    "# dict_keys(['beer_receipts', 'cover_charge_receipts', 'inside_outside_city_limits_code_y_n', 'liquor_receipts', \n",
    "#'location_address', 'location_city', 'location_county', 'location_name', 'location_number', \n",
    "# 'location_state', 'location_zip', 'obligation_end_date_yyyymmdd', 'responsibility_begin_date_yyyymmdd', \n",
    "# 'tabc_permit_number', 'taxpayer_address', 'taxpayer_city', 'taxpayer_county', 'taxpayer_name', 'taxpayer_number', \n",
    "#'taxpayer_state', 'taxpayer_zip', 'total_receipts', 'wine_receipts'])"
   ]
  },
  {
   "cell_type": "markdown",
   "metadata": {},
   "source": [
    "Holy cow, that's a lot of attributes.  Let's see how many."
   ]
  },
  {
   "cell_type": "code",
   "execution_count": 14,
   "metadata": {},
   "outputs": [],
   "source": [
    "num_attributes = None\n",
    "# 23"
   ]
  },
  {
   "cell_type": "markdown",
   "metadata": {},
   "source": [
    "Let's just use a look at a couple of these attributes.  We'll start with `obligation_end_date_yyyymmdd` as that tells us the month, and then let's also select `total_receipts`.  \n",
    "\n",
    "Let's assign the obligation end date to a variable called `receipt_month`."
   ]
  },
  {
   "cell_type": "code",
   "execution_count": 2,
   "metadata": {},
   "outputs": [],
   "source": [
    "receipt_month = None\n",
    "receipt_month\n",
    "# '2016-09-30T00:00:00.000'"
   ]
  },
  {
   "cell_type": "markdown",
   "metadata": {},
   "source": [
    "And let's assign our `total_receipts` to a variable called total receipts."
   ]
  },
  {
   "cell_type": "code",
   "execution_count": 3,
   "metadata": {},
   "outputs": [],
   "source": [
    "total_receipts = None\n",
    "total_receipts\n",
    "# '100368'"
   ]
  },
  {
   "cell_type": "markdown",
   "metadata": {},
   "source": [
    "Ok, now let's create a new dictionary with the keys of `total_receipts` and `obligation_end_date_yyyymmdd`, and with the corresponding values we found above.  Let's assign it to the variable `summary_receipt`.  "
   ]
  },
  {
   "cell_type": "code",
   "execution_count": 4,
   "metadata": {},
   "outputs": [],
   "source": [
    "summary_receipt = None"
   ]
  },
  {
   "cell_type": "code",
   "execution_count": null,
   "metadata": {},
   "outputs": [],
   "source": [
    "summary_receipt.keys()\n",
    "# dict_keys(['total_receipts', 'obligation_end_date_yyyymmdd'])"
   ]
  },
  {
   "cell_type": "code",
   "execution_count": 5,
   "metadata": {},
   "outputs": [],
   "source": [
    "summary_receipt.values()\n",
    "# dict_values(['100368', '2016-09-30T00:00:00.000'])"
   ]
  },
  {
   "cell_type": "markdown",
   "metadata": {},
   "source": [
    "### Summary"
   ]
  },
  {
   "cell_type": "markdown",
   "metadata": {},
   "source": [
    "In this lesson we used our knowledge of dictionaries to explore our API.  We explored the various attributes that were returned to us, and then selected just those elements of interest to create a new, more manageable dictionary."
   ]
  }
 ],
 "metadata": {
  "kernelspec": {
   "display_name": "Python 3",
   "language": "python",
   "name": "python3"
  },
  "language_info": {
   "codemirror_mode": {
    "name": "ipython",
    "version": 3
   },
   "file_extension": ".py",
   "mimetype": "text/x-python",
   "name": "python",
   "nbconvert_exporter": "python",
   "pygments_lexer": "ipython3",
   "version": "3.7.3"
  }
 },
 "nbformat": 4,
 "nbformat_minor": 2
}
