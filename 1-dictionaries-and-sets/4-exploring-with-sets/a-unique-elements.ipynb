{
 "cells": [
  {
   "cell_type": "markdown",
   "metadata": {},
   "source": [
    "### Introduction"
   ]
  },
  {
   "cell_type": "markdown",
   "metadata": {},
   "source": [
    "In the last lesson, we learned about the `map` function.  Now the `map` function is very useful for just selecting the information that we need from our data.  In this lesson, we'll see dig further into our data with the use of `set`.\n",
    "\n"
   ]
  },
  {
   "cell_type": "markdown",
   "metadata": {},
   "source": [
    "### Seeing the range of values"
   ]
  },
  {
   "cell_type": "markdown",
   "metadata": {},
   "source": [
    "Ok, so once again, here is our list of employees."
   ]
  },
  {
   "cell_type": "code",
   "execution_count": 1,
   "metadata": {},
   "outputs": [],
   "source": [
    "employees = [\n",
    "    {'name': 'amelia banes', 'birth_year': '1989' ,'days_available': []},\n",
    "    {'name': 'olivia wilker', 'birth_year': '1992', 'days_available': ['Monday', 'Tuesday', 'Saturday', 'Sunday']},\n",
    "    {'name': 'sam seaborne', 'birth_year': '1995' ,'days_available': ['Thursday', 'Saturday']},\n",
    "    {'name': 'patrina baker', 'birth_year': '1992' ,'days_available': ['Saturday', 'Sunday']},\n",
    "    {'name': 'olivia wilker', 'birth_year': '1992' ,'days_available': ['Saturday', 'Sunday']},\n",
    "    {'name': 'jake mcbride', 'birth_year': '1987' ,'days_available': ['Wednesday', 'Thursday']},\n",
    "]"
   ]
  },
  {
   "cell_type": "markdown",
   "metadata": {},
   "source": [
    "Now one thing that we may want to do is find all of the years of birth of our employees.  This could be good, for example, for seeing what types of employee events we should plan.\n",
    "\n",
    "The first step in doing this is to get a list of all of the years of birth of our employees."
   ]
  },
  {
   "cell_type": "code",
   "execution_count": 5,
   "metadata": {},
   "outputs": [
    {
     "data": {
      "text/plain": [
       "['1989', '1992', '1995', '1992', '1992', '1987']"
      ]
     },
     "execution_count": 5,
     "metadata": {},
     "output_type": "execute_result"
    }
   ],
   "source": [
    "birth_years = list(map(lambda employee: employee['birth_year'], employees))\n",
    "birth_years"
   ]
  },
  {
   "cell_type": "markdown",
   "metadata": {},
   "source": [
    "So now, let's get a list of unique birth years.  We can do this by passing our list into the `set` function."
   ]
  },
  {
   "cell_type": "code",
   "execution_count": 76,
   "metadata": {},
   "outputs": [
    {
     "data": {
      "text/plain": [
       "{'1989', '1992', '1995'}"
      ]
     },
     "execution_count": 76,
     "metadata": {},
     "output_type": "execute_result"
    }
   ],
   "source": [
    "set(birthdays)"
   ]
  },
  {
   "cell_type": "markdown",
   "metadata": {},
   "source": [
    "> A **set** is a new data structure where each element is unique.  We can turn a list into a set with the `set` function.  And if we want we can also turn a set back to a list by wrapping our set in the list function.  "
   ]
  },
  {
   "cell_type": "markdown",
   "metadata": {},
   "source": [
    "We'll that this can be very handy for getting a summary of the types of values in a given attribute.  "
   ]
  }
 ],
 "metadata": {
  "kernelspec": {
   "display_name": "Python 3",
   "language": "python",
   "name": "python3"
  },
  "language_info": {
   "codemirror_mode": {
    "name": "ipython",
    "version": 3
   },
   "file_extension": ".py",
   "mimetype": "text/x-python",
   "name": "python",
   "nbconvert_exporter": "python",
   "pygments_lexer": "ipython3",
   "version": "3.7.3"
  }
 },
 "nbformat": 4,
 "nbformat_minor": 2
}
