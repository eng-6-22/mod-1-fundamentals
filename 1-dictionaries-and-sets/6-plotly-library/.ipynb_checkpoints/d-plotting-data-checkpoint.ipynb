{
 "cells": [
  {
   "cell_type": "markdown",
   "metadata": {},
   "source": [
    "### Summary"
   ]
  },
  {
   "cell_type": "markdown",
   "metadata": {},
   "source": [
    "In this lesson, we worked with the `plotly` library to plot our data.  A fundamental concept is that a figure is just a list of traces.  So when we plot our data we pass a list into the `iplot` method, and pass the traces we wish to display.  A trace is represented as a dictionary with an `x` key pointing a list of the `x` coordinates for each point and a `y` key pointing to a list of the `y` coordinates for each point."
   ]
  },
  {
   "cell_type": "markdown",
   "metadata": {},
   "source": [
    "```python\n",
    "\n",
    "first_trace =  {'x': [0, 1, 2, 3, 4], 'y': [0, 4, 8, 12, 16], 'mode': 'markers'}\n",
    "second_trace =  {'x': [0, 1, 2, 3, 4], 'y': [0, 8, 16, 24, 32], 'mode': 'markers'}\n",
    "iplot([\n",
    "   first_trace, second_trace\n",
    "])\n",
    "\n",
    "```"
   ]
  }
 ],
 "metadata": {
  "kernelspec": {
   "display_name": "Python 3",
   "language": "python",
   "name": "python3"
  },
  "language_info": {
   "codemirror_mode": {
    "name": "ipython",
    "version": 3
   },
   "file_extension": ".py",
   "mimetype": "text/x-python",
   "name": "python",
   "nbconvert_exporter": "python",
   "pygments_lexer": "ipython3",
   "version": "3.7.3"
  }
 },
 "nbformat": 4,
 "nbformat_minor": 2
}
