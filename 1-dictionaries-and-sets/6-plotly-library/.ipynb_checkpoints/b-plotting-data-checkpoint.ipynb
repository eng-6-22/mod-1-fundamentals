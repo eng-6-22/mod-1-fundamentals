{
 "cells": [
  {
   "cell_type": "markdown",
   "metadata": {},
   "source": [
    "### Understanding the components of our plot\n",
    "\n",
    "Now plotly can make graphs like the one below.\n",
    "\n",
    "Imagine that the this graph above is used to show the amount of money earned in the first, second, third and fourth month for a restaurant chain.  And imagine that the orange line represents the amount of money earned by a restaurant in Dallas TX, and the blue line represents the amount of money earned by the restaurant in Houston.  So this entire graph shows how the two restaurants are doing side by side.\n",
    "\n",
    "Now let's refer to the components of the graph the way that plotly does.   Plotly calls each of those blue and orange lines a **`trace`**.  We can have as many traces as we want, just as our restaurant chain could potentially have many more restaurants and we want a line for each.  Second, plotly calls that entire graph above a `figure`.  \n",
    "\n",
    "So, the takeaway here is that **a figure consists of a list of traces.**"
   ]
  }
 ],
 "metadata": {
  "kernelspec": {
   "display_name": "Python 3",
   "language": "python",
   "name": "python3"
  },
  "language_info": {
   "codemirror_mode": {
    "name": "ipython",
    "version": 3
   },
   "file_extension": ".py",
   "mimetype": "text/x-python",
   "name": "python",
   "nbconvert_exporter": "python",
   "pygments_lexer": "ipython3",
   "version": "3.7.3"
  }
 },
 "nbformat": 4,
 "nbformat_minor": 2
}
