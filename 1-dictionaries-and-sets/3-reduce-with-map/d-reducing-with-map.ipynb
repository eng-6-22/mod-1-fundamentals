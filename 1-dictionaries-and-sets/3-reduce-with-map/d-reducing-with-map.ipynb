{
 "cells": [
  {
   "cell_type": "markdown",
   "metadata": {},
   "source": [
    "### Using map to create smaller dictionaries"
   ]
  },
  {
   "cell_type": "markdown",
   "metadata": {},
   "source": [
    "Ok, so now imagine that we would like a list of employee birthdays.  So we'll start by just getting a list of birthdays."
   ]
  },
  {
   "cell_type": "code",
   "execution_count": 70,
   "metadata": {},
   "outputs": [
    {
     "data": {
      "text/plain": [
       "['1989', '1992', '1995', '1992']"
      ]
     },
     "execution_count": 70,
     "metadata": {},
     "output_type": "execute_result"
    }
   ],
   "source": [
    "list(map(lambda employee: employee['birth_year'] ,employees))"
   ]
  },
  {
   "cell_type": "markdown",
   "metadata": {},
   "source": [
    "Ok, this isn't bad, but we would like to still have our names associated with our birthdays.  So instead of map returning a list of strings, let's use map to return a list of dictionaries, with each dictionary have the keys of `name` and `birthday`."
   ]
  },
  {
   "cell_type": "code",
   "execution_count": 72,
   "metadata": {},
   "outputs": [
    {
     "data": {
      "text/plain": [
       "[{'name': 'amelia', 'birth_year': '1989'},\n",
       " {'name': 'olivia', 'birth_year': '1992'},\n",
       " {'name': 'sam', 'birth_year': '1995'},\n",
       " {'name': 'patrina', 'birth_year': '1992'}]"
      ]
     },
     "execution_count": 72,
     "metadata": {},
     "output_type": "execute_result"
    }
   ],
   "source": [
    "list(map(lambda employee: {'name': employee['name'], 'birth_year': employee['birth_year']},employees))"
   ]
  },
  {
   "cell_type": "markdown",
   "metadata": {},
   "source": [
    "Ok, now that isn't bad at all.  On your own, practice using map to create a list dictionaries, with each dictionary having keys of `name` and `days_available`.  We'll ask you to do something similar in a lab, so might as well practice it now :)"
   ]
  },
  {
   "cell_type": "markdown",
   "metadata": {},
   "source": [
    "### Summary"
   ]
  },
  {
   "cell_type": "markdown",
   "metadata": {},
   "source": [
    "In this lesson, we learned about the `map` function.  The `map` function is a great way to reduce the amount of information that we are working with, to make things easier.  The map function takes two arguments.  In the second argument we pass through our the list that we will be operating on, `map(,employees)`.  Then, in the first argument we indicate what we will to do each element in that list: assign each element to a variable, and then operate on that variable. `map(employee: employee['name'], )`.  Finally, we wrap our function `map` in a list so that we are returned a list of our new elements: \n",
    "\n",
    "```python\n",
    "list(map(lambda employee: employee['name'], employees))\n",
    "```"
   ]
  }
 ],
 "metadata": {
  "kernelspec": {
   "display_name": "Python 3",
   "language": "python",
   "name": "python3"
  },
  "language_info": {
   "codemirror_mode": {
    "name": "ipython",
    "version": 3
   },
   "file_extension": ".py",
   "mimetype": "text/x-python",
   "name": "python",
   "nbconvert_exporter": "python",
   "pygments_lexer": "ipython3",
   "version": "3.7.3"
  }
 },
 "nbformat": 4,
 "nbformat_minor": 2
}
