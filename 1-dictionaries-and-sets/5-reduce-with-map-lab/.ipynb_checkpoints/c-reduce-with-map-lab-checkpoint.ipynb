{
 "cells": [
  {
   "cell_type": "markdown",
   "metadata": {},
   "source": [
    "### Creating a list of dictionaries"
   ]
  },
  {
   "cell_type": "markdown",
   "metadata": {},
   "source": [
    "Ok, so there is a different taxpayer name for each location, and `{'MWD AUSTIN DOWNTOWN, LLC', 'MWD DALLAS UPTOWN, LLC'}` are for locations in the two different cities.  \n",
    "\n",
    "Now let's create a list of receipts with each dictionary receipt being a little smaller.  Instead of the large number of attributes we were given, let's have a list where each element is a dictionary with the keys of `obligation_end_date_yyyymmdd`, `location_address` and `'total_receipts'`.  We'll assign this new list to the variable `receipt_summaries`."
   ]
  },
  {
   "cell_type": "markdown",
   "metadata": {},
   "source": [
    "Let's start off with our original list of dictionaries from the API."
   ]
  },
  {
   "cell_type": "code",
   "execution_count": 1,
   "metadata": {},
   "outputs": [],
   "source": [
    "import requests\n",
    "response = requests.get(\"https://data.texas.gov/resource/naix-2893.json?location_name=MAX%27S%20WINE%20DIVE\")\n",
    "restaurant_receipts = response.json()"
   ]
  },
  {
   "cell_type": "markdown",
   "metadata": {},
   "source": [
    "And now, let's reduce each of these dictionaries to only have the keys of:\n",
    "\n",
    "* `obligation_end_date_yyyymmdd`, `location_address` and `total_receipts`"
   ]
  },
  {
   "cell_type": "code",
   "execution_count": 10,
   "metadata": {},
   "outputs": [],
   "source": [
    "receipt_summaries = None"
   ]
  },
  {
   "cell_type": "code",
   "execution_count": 11,
   "metadata": {},
   "outputs": [],
   "source": [
    "# receipt_summaries"
   ]
  },
  {
   "cell_type": "markdown",
   "metadata": {},
   "source": [
    "### Summary"
   ]
  },
  {
   "cell_type": "markdown",
   "metadata": {},
   "source": [
    "Ok, great job!  In this lesson, we saw how we can use the `map` function to just work with a subset of our data.  We also saw how we can explore our data by using `map` return a list of a single attribute, and then using `set` to view the unique elements of that list. "
   ]
  }
 ],
 "metadata": {
  "kernelspec": {
   "display_name": "Python 3",
   "language": "python",
   "name": "python3"
  },
  "language_info": {
   "codemirror_mode": {
    "name": "ipython",
    "version": 3
   },
   "file_extension": ".py",
   "mimetype": "text/x-python",
   "name": "python",
   "nbconvert_exporter": "python",
   "pygments_lexer": "ipython3",
   "version": "3.7.3"
  }
 },
 "nbformat": 4,
 "nbformat_minor": 2
}
