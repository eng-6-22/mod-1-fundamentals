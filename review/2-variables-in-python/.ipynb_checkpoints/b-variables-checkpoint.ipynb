{
 "cells": [
  {
   "cell_type": "markdown",
   "metadata": {},
   "source": [
    "### How a variable works under the hood "
   ]
  },
  {
   "cell_type": "markdown",
   "metadata": {},
   "source": [
    "Now it's kinda magical to think that anywhere in our Jupyter Notebook we can simply type in a name and it can retreive the associated data for us.  The way this works is that when you assign data to a variable, Python is allocating a specific spot in your computer for that data.  When you type in the name of that variable, Python goes back to your location and returns what's there."
   ]
  },
  {
   "cell_type": "markdown",
   "metadata": {},
   "source": [
    "One analogy that may help is to think of assigning data to a variable, as placing data in a mailbox and naming that mailbox the variable name."
   ]
  },
  {
   "cell_type": "code",
   "execution_count": 20,
   "metadata": {},
   "outputs": [],
   "source": [
    "mailbox = 'a beautiful present'"
   ]
  },
  {
   "cell_type": "markdown",
   "metadata": {},
   "source": [
    "When we type the variable name again, Python just opens the mailbox and returns what's there."
   ]
  },
  {
   "cell_type": "code",
   "execution_count": 21,
   "metadata": {},
   "outputs": [
    {
     "data": {
      "text/plain": [
       "'a beautiful present'"
      ]
     },
     "execution_count": 21,
     "metadata": {},
     "output_type": "execute_result"
    }
   ],
   "source": [
    "mailbox"
   ]
  },
  {
   "cell_type": "markdown",
   "metadata": {},
   "source": [
    "So a variable is just a pointer to a location in your computer.  The same way we can label a mailbox to tell us where our package lives."
   ]
  },
  {
   "cell_type": "markdown",
   "metadata": {},
   "source": [
    "<img src=\"mailboxes.jpg\" width=\"60%\"/>"
   ]
  }
 ],
 "metadata": {
  "kernelspec": {
   "display_name": "Python 3",
   "language": "python",
   "name": "python3"
  },
  "language_info": {
   "codemirror_mode": {
    "name": "ipython",
    "version": 3
   },
   "file_extension": ".py",
   "mimetype": "text/x-python",
   "name": "python",
   "nbconvert_exporter": "python",
   "pygments_lexer": "ipython3",
   "version": "3.7.3"
  }
 },
 "nbformat": 4,
 "nbformat_minor": 2
}
