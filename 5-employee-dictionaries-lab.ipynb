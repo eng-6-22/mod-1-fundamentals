{
 "cells": [
  {
   "cell_type": "markdown",
   "metadata": {},
   "source": [
    "# Working with dictionaries lab"
   ]
  },
  {
   "cell_type": "markdown",
   "metadata": {},
   "source": [
    "### Introduction"
   ]
  },
  {
   "cell_type": "markdown",
   "metadata": {},
   "source": [
    "Ok, so in this lesson, we'll practice working with dictionaries.  We'll start with  creating some dictionaries, and working with those.  Then, we'll move on to using our knowledge of dictionaries to explore the API."
   ]
  },
  {
   "cell_type": "markdown",
   "metadata": {},
   "source": [
    "### Using our own dictionaries"
   ]
  },
  {
   "cell_type": "markdown",
   "metadata": {},
   "source": [
    "As we know, dictionaries are a great way to label attributes about an entity.  Let's start with a dictionary describing a restaurant employee."
   ]
  },
  {
   "cell_type": "code",
   "execution_count": 2,
   "metadata": {},
   "outputs": [],
   "source": [
    "olivia = {'name': 'olivia', 'birthday': '11/6/1992', \n",
    "          'days_available': ['Monday', 'Tuesday', 'Saturday', 'Sunday']}"
   ]
  },
  {
   "cell_type": "markdown",
   "metadata": {},
   "source": [
    "Let's explore our data structure by looking at **all of the keys** in the data structure.  We'll assign these key values to a variable named `attributes`."
   ]
  },
  {
   "cell_type": "markdown",
   "metadata": {},
   "source": [
    "> Remember to use dot and tab if you cannot remember the name of the method."
   ]
  },
  {
   "cell_type": "code",
   "execution_count": 1,
   "metadata": {},
   "outputs": [],
   "source": [
    "olivia_keys = None\n",
    "\n",
    "type(olivia_keys)\n",
    "# # dict_keys"
   ]
  },
  {
   "cell_type": "markdown",
   "metadata": {},
   "source": [
    "So if we look at keys, we see that three attributes are available."
   ]
  },
  {
   "cell_type": "code",
   "execution_count": 9,
   "metadata": {},
   "outputs": [
    {
     "data": {
      "text/plain": [
       "dict_keys(['name', 'birthday', 'days_available'])"
      ]
     },
     "execution_count": 9,
     "metadata": {},
     "output_type": "execute_result"
    }
   ],
   "source": [
    "olivia_keys\n",
    "\n",
    "# dict_keys(['name', 'birthday', 'days_available'])"
   ]
  },
  {
   "cell_type": "markdown",
   "metadata": {},
   "source": [
    "Now, retreive the value for `birthday` for `olivia` and assign it to the variable `birthday`."
   ]
  },
  {
   "cell_type": "code",
   "execution_count": 13,
   "metadata": {},
   "outputs": [],
   "source": [
    "birthday = None\n",
    "\n",
    "birthday\n",
    "# 11/6/1992"
   ]
  },
  {
   "cell_type": "markdown",
   "metadata": {},
   "source": [
    "Now retreive the list of days that olivia is available, and assign it to the variable days available."
   ]
  },
  {
   "cell_type": "code",
   "execution_count": 1,
   "metadata": {},
   "outputs": [],
   "source": [
    "days_available = None\n",
    "days_available\n",
    "# ['Monday', 'Tuesday', 'Saturday', 'Sunday']"
   ]
  },
  {
   "cell_type": "markdown",
   "metadata": {},
   "source": [
    "Now Olivia tells us that she is no longer availabe on Sunday.  Start with the variable `olivia` and remove the last element from the list of days she is available."
   ]
  },
  {
   "cell_type": "code",
   "execution_count": 2,
   "metadata": {},
   "outputs": [],
   "source": [
    "# write code here "
   ]
  },
  {
   "cell_type": "code",
   "execution_count": 6,
   "metadata": {},
   "outputs": [],
   "source": [
    "olivia['days_available']\n",
    "# ['Monday', 'Tuesday', 'Saturday']"
   ]
  },
  {
   "cell_type": "markdown",
   "metadata": {},
   "source": [
    "Now let's create a new dictionary to represent another employee.  We'll assign it to the variable of `amelia`.  Our dictionary should have keys of `name`, `birthday`, and `days_available`.  And the corresponding values should be `amelia`, `3/18/1989` and an empty list for days available (as these are unknown to us right now.  "
   ]
  },
  {
   "cell_type": "code",
   "execution_count": 7,
   "metadata": {},
   "outputs": [],
   "source": [
    "amelia = None"
   ]
  },
  {
   "cell_type": "code",
   "execution_count": 9,
   "metadata": {},
   "outputs": [],
   "source": [
    "amelia.keys()\n",
    "\n",
    "# dict_keys(['name', 'birthday', 'days_available'])"
   ]
  },
  {
   "cell_type": "code",
   "execution_count": 27,
   "metadata": {},
   "outputs": [
    {
     "data": {
      "text/plain": [
       "dict_values(['amelia', '3/18/1989', []])"
      ]
     },
     "execution_count": 27,
     "metadata": {},
     "output_type": "execute_result"
    }
   ],
   "source": [
    "amelia.values()\n",
    "\n",
    "# dict_values(['amelia', '3/18/1989', []])"
   ]
  },
  {
   "cell_type": "markdown",
   "metadata": {},
   "source": [
    "Now, convert the dictionary above into the following list of nested data."
   ]
  },
  {
   "cell_type": "code",
   "execution_count": 5,
   "metadata": {},
   "outputs": [
    {
     "data": {
      "text/plain": [
       "[('name', 'amelia'), ('birthday', '3/18/1989'), ('days_available', [])]"
      ]
     },
     "execution_count": 5,
     "metadata": {},
     "output_type": "execute_result"
    }
   ],
   "source": [
    "amelia_list = None\n",
    "\n",
    "amelia_list\n",
    "# [('name', 'amelia'), ('birthday', '3/18/1989'), ('days_available', [])]"
   ]
  },
  {
   "cell_type": "markdown",
   "metadata": {},
   "source": [
    "Then go usee this `amelia_list` to convert our data to a dictionary without the key value pair of `days_available`, `[]`."
   ]
  },
  {
   "cell_type": "code",
   "execution_count": 7,
   "metadata": {},
   "outputs": [
    {
     "data": {
      "text/plain": [
       "{'name': 'amelia', 'birthday': '3/18/1989'}"
      ]
     },
     "execution_count": 7,
     "metadata": {},
     "output_type": "execute_result"
    }
   ],
   "source": [
    "\n",
    "\n",
    "# {'name': 'amelia', 'birthday': '3/18/1989'}"
   ]
  },
  {
   "cell_type": "markdown",
   "metadata": {},
   "source": [
    "### Summary"
   ]
  },
  {
   "cell_type": "markdown",
   "metadata": {},
   "source": [
    "In this lesson, we accessed information from dictionaries and we created our own dictionaries.  We practiced using the `keys` method, and the `values` method.  Then we moved onto nested data structures, a list of dictionaries.  We'll see in the next lesson that working with nested data structures is really one of the keys to working with APIs."
   ]
  }
 ],
 "metadata": {
  "kernelspec": {
   "display_name": "Python 3 (ipykernel)",
   "language": "python",
   "name": "python3"
  },
  "language_info": {
   "codemirror_mode": {
    "name": "ipython",
    "version": 3
   },
   "file_extension": ".py",
   "mimetype": "text/x-python",
   "name": "python",
   "nbconvert_exporter": "python",
   "pygments_lexer": "ipython3",
   "version": "3.9.7"
  }
 },
 "nbformat": 4,
 "nbformat_minor": 4
}
