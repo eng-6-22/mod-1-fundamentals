{
 "cells": [
  {
   "cell_type": "markdown",
   "metadata": {},
   "source": [
    "#### 2. The function action  "
   ]
  },
  {
   "cell_type": "markdown",
   "metadata": {},
   "source": [
    "Now the next step is to have our functions do something.  Here, let's have our functions capitalize a list of names.\n",
    "\n",
    "This is what we would like to do in our function: declare a list of names and then capitalize them.  Let's first do this outside of a function."
   ]
  },
  {
   "cell_type": "code",
   "execution_count": 13,
   "metadata": {},
   "outputs": [
    {
     "data": {
      "text/plain": [
       "['Max', 'Susan', 'Eliana', 'Sam', 'Georgette']"
      ]
     },
     "execution_count": 13,
     "metadata": {},
     "output_type": "execute_result"
    }
   ],
   "source": [
    "names = ['max', 'susan', 'eliana', 'sam', 'georgette']\n",
    "capitalized_names = list(map(lambda employee: employee.capitalize(), employees))\n",
    "capitalized_names"
   ]
  },
  {
   "cell_type": "markdown",
   "metadata": {},
   "source": [
    "Ok, now we can simply copy and paste this code and move it inside of our function.  Then whenever, we call our function, the procedure will occur.  Let's try it."
   ]
  },
  {
   "cell_type": "code",
   "execution_count": 17,
   "metadata": {},
   "outputs": [],
   "source": [
    "def capitalize_names():\n",
    "    names = ['max', 'susan', 'eliana', 'sam', 'georgette']\n",
    "    upper_names = list(map(lambda employee: employee.capitalize(), employees))\n",
    "    upper_names"
   ]
  },
  {
   "cell_type": "markdown",
   "metadata": {},
   "source": [
    "Ok great. Now let's call the function."
   ]
  },
  {
   "cell_type": "code",
   "execution_count": 16,
   "metadata": {},
   "outputs": [],
   "source": [
    "capitalize_names()"
   ]
  },
  {
   "cell_type": "markdown",
   "metadata": {},
   "source": [
    "Now our function was called, and the procedure *was* run.  But we can't see the result because nothing was *returned* from our function."
   ]
  }
 ],
 "metadata": {
  "kernelspec": {
   "display_name": "Python 3",
   "language": "python",
   "name": "python3"
  },
  "language_info": {
   "codemirror_mode": {
    "name": "ipython",
    "version": 3
   },
   "file_extension": ".py",
   "mimetype": "text/x-python",
   "name": "python",
   "nbconvert_exporter": "python",
   "pygments_lexer": "ipython3",
   "version": "3.7.3"
  }
 },
 "nbformat": 4,
 "nbformat_minor": 2
}
