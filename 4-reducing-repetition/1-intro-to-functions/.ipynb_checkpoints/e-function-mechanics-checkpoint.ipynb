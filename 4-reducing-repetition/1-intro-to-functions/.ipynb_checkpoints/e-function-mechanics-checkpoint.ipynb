{
 "cells": [
  {
   "cell_type": "markdown",
   "metadata": {},
   "source": [
    "### Summary"
   ]
  },
  {
   "cell_type": "markdown",
   "metadata": {},
   "source": [
    "In this lesson, we learned about functions.  Functions are a way for us to wrap up a procedure -- like our `len` function that performs the procedure of calculating the length of a list. \n",
    "\n",
    "We saw how to write our own functions, that can have names of our choice, and also a do what we would like.  We did this in three steps.  \n",
    "\n",
    "First we wrote the function signature with the line `def capitalize_names():`.  The `def` keyword tells Python we are about to build a function, then we have the name of the function, followed by parentheses, and end the first line with a colon.\n",
    "\n",
    "Second, we write the procedure, or the act that a function performs after that function signature.  We can write code like we always wrote, like `mapping` through a list of names, but if we place that code in a function, we can call that procedure repeatedly.\n",
    "\n",
    "Finally, we saw that even though our function will perform the procedure, we do not see that end result without a `return` statement at the end of the function.  Any variables defined in the function are stuck inside of that function unless we have `return` statement at the end to specify what is thrown over the walls of the function.   "
   ]
  }
 ],
 "metadata": {
  "kernelspec": {
   "display_name": "Python 3",
   "language": "python",
   "name": "python3"
  },
  "language_info": {
   "codemirror_mode": {
    "name": "ipython",
    "version": 3
   },
   "file_extension": ".py",
   "mimetype": "text/x-python",
   "name": "python",
   "nbconvert_exporter": "python",
   "pygments_lexer": "ipython3",
   "version": "3.7.3"
  }
 },
 "nbformat": 4,
 "nbformat_minor": 2
}
