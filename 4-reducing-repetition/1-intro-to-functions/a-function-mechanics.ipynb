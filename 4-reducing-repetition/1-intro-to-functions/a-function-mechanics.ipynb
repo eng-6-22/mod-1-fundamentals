{
 "cells": [
  {
   "cell_type": "markdown",
   "metadata": {},
   "source": [
    "### Introduction "
   ]
  },
  {
   "cell_type": "markdown",
   "metadata": {},
   "source": [
    "As we build up our knowledge of code, we can see some of our code becoming repetitive.  As a coder, we try to avoid repetition so that there is less code to maintain.  We've already seen one way of reducing repetition: variables.  Variables allow us to declare *data* once and run it multiple times.  As we'll see, functions allow us to write a *procedure* once, and reference and execute that procedure multiple times.  Ok, let's start learning about functions."
   ]
  },
  {
   "cell_type": "markdown",
   "metadata": {},
   "source": [
    "### Functions we have known and liked"
   ]
  },
  {
   "cell_type": "markdown",
   "metadata": {},
   "source": [
    "The first thing to know about functions is that we have already seen them."
   ]
  },
  {
   "cell_type": "code",
   "execution_count": 2,
   "metadata": {},
   "outputs": [
    {
     "data": {
      "text/plain": [
       "5"
      ]
     },
     "execution_count": 2,
     "metadata": {},
     "output_type": "execute_result"
    }
   ],
   "source": [
    "employees = ['max', 'susan', 'eliana', 'sam', 'georgette']\n",
    "len(employees)"
   ]
  },
  {
   "cell_type": "markdown",
   "metadata": {},
   "source": [
    "In the code above, we have just used Python's `len` function.  Notice that this function *does something* - it calculates the length of a list.  That's what our functions do - they perform an operation for us on some data.\n",
    "\n",
    "Now let's start building our own functions."
   ]
  }
 ],
 "metadata": {
  "kernelspec": {
   "display_name": "Python 3",
   "language": "python",
   "name": "python3"
  },
  "language_info": {
   "codemirror_mode": {
    "name": "ipython",
    "version": 3
   },
   "file_extension": ".py",
   "mimetype": "text/x-python",
   "name": "python",
   "nbconvert_exporter": "python",
   "pygments_lexer": "ipython3",
   "version": "3.7.3"
  }
 },
 "nbformat": 4,
 "nbformat_minor": 2
}
