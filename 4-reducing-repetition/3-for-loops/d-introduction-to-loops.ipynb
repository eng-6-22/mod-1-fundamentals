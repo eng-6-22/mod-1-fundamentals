{
 "cells": [
  {
   "cell_type": "markdown",
   "metadata": {},
   "source": [
    "### Summary"
   ]
  },
  {
   "cell_type": "markdown",
   "metadata": {},
   "source": [
    "Loops allow us to perform the same operation once for each element in a list.  We write a loop with the pattern of \n",
    "```python\n",
    "for block_variable in our_list:\n",
    "    # do something in block of code\n",
    "```\n",
    "In doing so, our loop moves through the elements in the list one by one, successively setting each element equal to the block variable.  Once the block variable is assigned to a new element, Python executes the block of code in the following lines.\n",
    "\n",
    "It can be difficult to write loops, so it's great to this down into steps.  First, try to perform the procedure on just the first element in the list.  Once that works, identify the code that is repeated for each element in the list, and identify the code that changes as the block variable changes.  Use this technique as you move through the coming lab."
   ]
  }
 ],
 "metadata": {
  "kernelspec": {
   "display_name": "Python 3",
   "language": "python",
   "name": "python3"
  },
  "language_info": {
   "codemirror_mode": {
    "name": "ipython",
    "version": 3
   },
   "file_extension": ".py",
   "mimetype": "text/x-python",
   "name": "python",
   "nbconvert_exporter": "python",
   "pygments_lexer": "ipython3",
   "version": "3.7.3"
  }
 },
 "nbformat": 4,
 "nbformat_minor": 2
}
