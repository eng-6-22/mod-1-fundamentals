{
 "cells": [
  {
   "cell_type": "markdown",
   "metadata": {},
   "source": [
    "### Simple Printing"
   ]
  },
  {
   "cell_type": "markdown",
   "metadata": {},
   "source": [
    "First let's start with a simple print statement.  A print statement just prints code."
   ]
  },
  {
   "cell_type": "code",
   "execution_count": 11,
   "metadata": {},
   "outputs": [
    {
     "name": "stdout",
     "output_type": "stream",
     "text": [
      "hello\n"
     ]
    }
   ],
   "source": [
    "print('hello')"
   ]
  },
  {
   "cell_type": "markdown",
   "metadata": {},
   "source": [
    "Now let's use a loop to print hello out three times."
   ]
  },
  {
   "cell_type": "code",
   "execution_count": 12,
   "metadata": {},
   "outputs": [
    {
     "name": "stdout",
     "output_type": "stream",
     "text": [
      "hello\n",
      "hello\n",
      "hello\n"
     ]
    }
   ],
   "source": [
    "for number in [1, 2, 3]:\n",
    "    print('hello')"
   ]
  },
  {
   "cell_type": "markdown",
   "metadata": {},
   "source": [
    "That is a for loop.  A `for loop` begins with the word `for` then has a variable name, called a block variable.  And finally it contains a list or another type of collection.  That first line tells us how many times we will perform the operation below.  We perform the operation below once for every element in our list.  And this list that we pass through can contain whatever data we like."
   ]
  },
  {
   "cell_type": "code",
   "execution_count": 14,
   "metadata": {},
   "outputs": [
    {
     "name": "stdout",
     "output_type": "stream",
     "text": [
      "hello\n",
      "hello\n"
     ]
    }
   ],
   "source": [
    "for number in [1, 'two']:\n",
    "    print('hello')"
   ]
  },
  {
   "cell_type": "markdown",
   "metadata": {},
   "source": [
    "Notice that at the end of the first line we place a colon, `:`.  This indicates to Python that we are about to begin a block.  A block just means an unnamed procedure of code.  We indent our block with a tab (or two spaces) and then write the procedure that we want to occur for every element in the list.  Our block can be as many lines as we like."
   ]
  },
  {
   "cell_type": "code",
   "execution_count": 15,
   "metadata": {},
   "outputs": [
    {
     "name": "stdout",
     "output_type": "stream",
     "text": [
      "hello\n",
      "goodbye\n",
      "hello\n",
      "goodbye\n"
     ]
    }
   ],
   "source": [
    "for number in [1, 2]:\n",
    "    print('hello')\n",
    "    print('goodbye')"
   ]
  },
  {
   "cell_type": "markdown",
   "metadata": {},
   "source": [
    "Let's break down what happens in the code above.  Python starts with the first element in the list, `1`.  Then it performs the procedure specified in the block below, `print('hello')` and `print('goodbye')`.  When the block completes, Python moves to the number `2` and executes the block again.  Then because two is the last number in the list, the for loop completes.  If we want to write code after the for loop, we simply unindent."
   ]
  },
  {
   "cell_type": "markdown",
   "metadata": {},
   "source": [
    "> **Beware a gotcha:** \n",
    "\n",
    "> Notice that we are using a lot more print statements than in previous sections.  Let's see what happens if we don't."
   ]
  },
  {
   "cell_type": "code",
   "execution_count": 41,
   "metadata": {},
   "outputs": [],
   "source": [
    "for number in [1, 2]:\n",
    "    'hello'\n",
    "    'goodbye'"
   ]
  },
  {
   "cell_type": "markdown",
   "metadata": {},
   "source": [
    "> If you press `shift` and `enter` above, the code is run, but nothing displays below.  This is because Python only displays the return value of last procedure run.  And the last procedure run above is the termination of our loop, which has return value.  So to show the impact of our loop, we use the `print` function. "
   ]
  },
  {
   "cell_type": "markdown",
   "metadata": {},
   "source": [
    "Ok, now let's return to loops.  Try to predict what will print out in the code below.  How many hello's and goodbye's will print before ciao prints?"
   ]
  },
  {
   "cell_type": "code",
   "execution_count": null,
   "metadata": {},
   "outputs": [],
   "source": [
    "for number in [1, 3]:\n",
    "    print('hello')\n",
    "    print('goodbye')\n",
    "\n",
    "print('ciao')"
   ]
  },
  {
   "cell_type": "markdown",
   "metadata": {},
   "source": [
    "Each time we move through the block is called an **iteration**.  So we would say that the code directly above iterates through the block two times."
   ]
  },
  {
   "cell_type": "code",
   "execution_count": 23,
   "metadata": {},
   "outputs": [],
   "source": [
    "# write a for loop here that prints out 'hello', 'goodbye', and 'ciao' three times each."
   ]
  },
  {
   "cell_type": "code",
   "execution_count": 39,
   "metadata": {},
   "outputs": [
    {
     "name": "stdout",
     "output_type": "stream",
     "text": [
      "welcome to chipotle\n",
      "welcome to chopt\n",
      "welcome to arbys\n"
     ]
    }
   ],
   "source": [
    "for restaurant in ['chipotle', 'chopt', 'arbys']:\n",
    "    print('welcome to ' + restaurant)"
   ]
  },
  {
   "cell_type": "markdown",
   "metadata": {},
   "source": [
    "This works because, as we know our loop moves through each element in our list successively and assigns it to the block variable.  So we just through each element in our list of restaurants, assign the block variable to equal a new restaurant name, and then do something with that restaurant.  \n",
    "\n",
    "Ok, loops take some practice, so it's time to move through a lab in the next lesson."
   ]
  }
 ],
 "metadata": {
  "kernelspec": {
   "display_name": "Python 3",
   "language": "python",
   "name": "python3"
  },
  "language_info": {
   "codemirror_mode": {
    "name": "ipython",
    "version": 3
   },
   "file_extension": ".py",
   "mimetype": "text/x-python",
   "name": "python",
   "nbconvert_exporter": "python",
   "pygments_lexer": "ipython3",
   "version": "3.7.3"
  }
 },
 "nbformat": 4,
 "nbformat_minor": 2
}
