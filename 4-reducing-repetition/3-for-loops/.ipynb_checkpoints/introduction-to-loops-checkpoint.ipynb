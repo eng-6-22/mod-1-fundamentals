{
 "cells": [
  {
   "cell_type": "markdown",
   "metadata": {},
   "source": [
    "# For Loops"
   ]
  },
  {
   "cell_type": "markdown",
   "metadata": {},
   "source": [
    "### Introduction"
   ]
  },
  {
   "cell_type": "markdown",
   "metadata": {},
   "source": [
    "It's time to take a break from our tour of datatypes, and see what we can do with all of this data.  One thing that we love using computers for is repeatedly performing a task.  This is a great use case of a for loop. "
   ]
  },
  {
   "cell_type": "markdown",
   "metadata": {},
   "source": [
    "### Simple Printing"
   ]
  },
  {
   "cell_type": "markdown",
   "metadata": {},
   "source": [
    "First let's start with a simple print statement.  A print statement just prints code."
   ]
  },
  {
   "cell_type": "code",
   "execution_count": 11,
   "metadata": {},
   "outputs": [
    {
     "name": "stdout",
     "output_type": "stream",
     "text": [
      "hello\n"
     ]
    }
   ],
   "source": [
    "print('hello')"
   ]
  },
  {
   "cell_type": "markdown",
   "metadata": {},
   "source": [
    "Now let's use a loop to print hello out three times."
   ]
  },
  {
   "cell_type": "code",
   "execution_count": 12,
   "metadata": {},
   "outputs": [
    {
     "name": "stdout",
     "output_type": "stream",
     "text": [
      "hello\n",
      "hello\n",
      "hello\n"
     ]
    }
   ],
   "source": [
    "for number in [1, 2, 3]:\n",
    "    print('hello')"
   ]
  },
  {
   "cell_type": "markdown",
   "metadata": {},
   "source": [
    "That is a for loop.  A `for loop` begins with the word `for` then has a variable name, called a block variable.  And finally it contains a list or another type of collection.  That first line tells us how many times we will perform the operation below.  We perform the operation below once for every element in our list.  And this list that we pass through can contain whatever data we like."
   ]
  },
  {
   "cell_type": "code",
   "execution_count": 14,
   "metadata": {},
   "outputs": [
    {
     "name": "stdout",
     "output_type": "stream",
     "text": [
      "hello\n",
      "hello\n"
     ]
    }
   ],
   "source": [
    "for number in [1, 'two']:\n",
    "    print('hello')"
   ]
  },
  {
   "cell_type": "markdown",
   "metadata": {},
   "source": [
    "Notice that at the end of the first line we place a colon, `:`.  This indicates to Python that we are about to begin a block.  A block just means an unnamed procedure.  We indent our block with a tab (or two spaces) and then write the procedure that we want to occur for every element in the list.  Our block can be as many lines as we like."
   ]
  },
  {
   "cell_type": "code",
   "execution_count": 15,
   "metadata": {},
   "outputs": [
    {
     "name": "stdout",
     "output_type": "stream",
     "text": [
      "hello\n",
      "goodbye\n",
      "hello\n",
      "goodbye\n"
     ]
    }
   ],
   "source": [
    "for number in [1, 2]:\n",
    "    print('hello')\n",
    "    print('goodbye')"
   ]
  },
  {
   "cell_type": "markdown",
   "metadata": {},
   "source": [
    "Let's break down what happens in the code above.  Python starts with the first element in the list, `1`.  Then it performs the procedure specified in the block below, `print('hello')` and `print('goodbye')`.  When the block completes, Python moves to the number 2 and executes the block again.  Then because two is the last number in the list, the for loop completes.  If we want to write code after the for loop, we simply unindent.\n",
    "\n",
    "Try to predict what will print out in the code below.  How many hello's and goodbye's will print before ciao prints?"
   ]
  },
  {
   "cell_type": "code",
   "execution_count": null,
   "metadata": {},
   "outputs": [],
   "source": [
    "for number in [1, 3]:\n",
    "    print('hello')\n",
    "    print('goodbye')\n",
    "\n",
    "print('ciao')"
   ]
  },
  {
   "cell_type": "markdown",
   "metadata": {},
   "source": [
    "Each time we move through the block is called an **iteration**.  So we would say that the code directly above iterates through the block two times."
   ]
  },
  {
   "cell_type": "code",
   "execution_count": 23,
   "metadata": {},
   "outputs": [],
   "source": [
    "# write a for loop here that prints out 'hello', 'goodbye', and 'ciao' three times each."
   ]
  },
  {
   "cell_type": "markdown",
   "metadata": {},
   "source": [
    "### Doing more with block variables"
   ]
  },
  {
   "cell_type": "markdown",
   "metadata": {},
   "source": [
    "There's another nice thing about loops. With loops, the block variable (below `index`) takes turns being each element of the list, in order.  So in the first iteration index is first element 0, then it's the second element 1, and finally 2. "
   ]
  },
  {
   "cell_type": "code",
   "execution_count": 26,
   "metadata": {},
   "outputs": [
    {
     "name": "stdout",
     "output_type": "stream",
     "text": [
      "0\n",
      "1\n",
      "2\n"
     ]
    }
   ],
   "source": [
    "for index in [0, 1, 2]:\n",
    "    print(index)"
   ]
  },
  {
   "cell_type": "markdown",
   "metadata": {},
   "source": [
    "So in the for loop above, we iterate through the block `print(index)` three times.  On the first iteration index equals 0, on the second iteration `index` equals 1, and on the last iteration index equals 2.  The code below shows the for loop followed by a deconstruction into each iteration."
   ]
  },
  {
   "cell_type": "code",
   "execution_count": null,
   "metadata": {},
   "outputs": [],
   "source": [
    "# entire loop\n",
    "for index in [0, 1, 2]:\n",
    "    print(index)\n",
    "    \n",
    "# deconstructed into iterations\n",
    "\n",
    "# 1st iteration\n",
    "index = 0\n",
    "print(index)\n",
    "\n",
    "# 2nd iteration\n",
    "index = 1\n",
    "print(index)\n",
    "\n",
    "# 3rd iteration\n",
    "index = 2\n",
    "print(index)"
   ]
  },
  {
   "cell_type": "markdown",
   "metadata": {},
   "source": [
    "### Moving onto restaurants"
   ]
  },
  {
   "cell_type": "markdown",
   "metadata": {},
   "source": [
    "Deconstructing what our loop does, or what we want it to do is a *very helpful* technique for programming.  Let's try this technique in writing a t 'Welcome to ' followed by the restaurant name for each restaurant in a list.  Here is our list."
   ]
  },
  {
   "cell_type": "code",
   "execution_count": 24,
   "metadata": {},
   "outputs": [],
   "source": [
    "restaurants = ['chipotle', 'chopt', 'arbys']"
   ]
  },
  {
   "cell_type": "markdown",
   "metadata": {},
   "source": [
    "Ok, now let's write out this procedure without using a loop."
   ]
  },
  {
   "cell_type": "code",
   "execution_count": 25,
   "metadata": {},
   "outputs": [
    {
     "name": "stdout",
     "output_type": "stream",
     "text": [
      "welcome to chipotle\n",
      "welcome to chopt\n",
      "welcome to arbys\n"
     ]
    }
   ],
   "source": [
    "print('welcome to ' + restaurants[0])\n",
    "print('welcome to ' + restaurants[1])\n",
    "print('welcome to ' + restaurants[2])"
   ]
  },
  {
   "cell_type": "markdown",
   "metadata": {},
   "source": [
    "This looks like our code deconstructing our loop above.  In fact, if we use loop to successively assign the numbers 0, 1, and 2 to index.  We can code out 'welcome to' and then access the element at the 0 index, then the element at the 1 index and so on.  Let's see it in action."
   ]
  },
  {
   "cell_type": "code",
   "execution_count": 30,
   "metadata": {},
   "outputs": [
    {
     "name": "stdout",
     "output_type": "stream",
     "text": [
      "welcome to chipotle\n"
     ]
    }
   ],
   "source": [
    "# 1st iteration\n",
    "index = 0\n",
    "print('welcome to ' + restaurants[index])"
   ]
  },
  {
   "cell_type": "code",
   "execution_count": 32,
   "metadata": {},
   "outputs": [
    {
     "name": "stdout",
     "output_type": "stream",
     "text": [
      "welcome to chopt\n"
     ]
    }
   ],
   "source": [
    "# 2nd iteration\n",
    "index = 1\n",
    "print('welcome to ' + restaurants[index])"
   ]
  },
  {
   "cell_type": "code",
   "execution_count": 33,
   "metadata": {},
   "outputs": [
    {
     "name": "stdout",
     "output_type": "stream",
     "text": [
      "welcome to arbys\n"
     ]
    }
   ],
   "source": [
    "# 3rd iteration\n",
    "index = 2\n",
    "print('welcome to ' + restaurants[index])"
   ]
  },
  {
   "cell_type": "markdown",
   "metadata": {},
   "source": [
    "Ok, so now we need to use a for loop to reassign index to equal the numbers 0, then 1, then 2.  Let's try it."
   ]
  },
  {
   "cell_type": "code",
   "execution_count": 34,
   "metadata": {},
   "outputs": [
    {
     "name": "stdout",
     "output_type": "stream",
     "text": [
      "welcome to chipotle\n",
      "welcome to chopt\n",
      "welcome to arbys\n"
     ]
    }
   ],
   "source": [
    "for index in [0, 1, 2]:\n",
    "    print('welcome to ' + restaurants[index])"
   ]
  },
  {
   "cell_type": "markdown",
   "metadata": {},
   "source": [
    "Now, it may seem hard to come up without unless you go through the steps.  So...go through the steps.  A technique we love here, is when trying to do something for a list of elements with a loop, first do it with one element.  \n",
    "\n",
    "Let's practice this procedure with printing out the capitalization of each restaurant.  Ok, so step one is to just try this with one restaurant."
   ]
  },
  {
   "cell_type": "code",
   "execution_count": 36,
   "metadata": {},
   "outputs": [
    {
     "name": "stdout",
     "output_type": "stream",
     "text": [
      "Chipotle\n"
     ]
    }
   ],
   "source": [
    "print(restaurants[0].capitalize())"
   ]
  },
  {
   "cell_type": "markdown",
   "metadata": {},
   "source": [
    "Now that line above will become the content of our block in the loop we are about to write.  The data that works for our first iteration but needs to be changed afterwards, here the number 0, will become the first element of our list.  We replace that number with our block variable."
   ]
  },
  {
   "cell_type": "code",
   "execution_count": 38,
   "metadata": {},
   "outputs": [
    {
     "name": "stdout",
     "output_type": "stream",
     "text": [
      "Chipotle\n",
      "Chopt\n",
      "Arbys\n"
     ]
    }
   ],
   "source": [
    "for index in [0, 1, 2]:\n",
    "    print(restaurants[index].capitalize())"
   ]
  },
  {
   "cell_type": "markdown",
   "metadata": {},
   "source": [
    "> If you follow this procedure with working with loops, things will become a lot easier.  And you want to practice this procedure when things are easy so that you can lean on it when things become more tricky.\n"
   ]
  },
  {
   "cell_type": "markdown",
   "metadata": {},
   "source": [
    "### One more thing"
   ]
  },
  {
   "cell_type": "markdown",
   "metadata": {},
   "source": [
    "Ok, so we printed out a greeting for each restaurant by looping through a list of numbers, and then using that list of numbers to access the list by an index.\n",
    "\n",
    "But we could also just make each restaurant name an element in our list, instead of those numbers."
   ]
  },
  {
   "cell_type": "code",
   "execution_count": 39,
   "metadata": {},
   "outputs": [
    {
     "name": "stdout",
     "output_type": "stream",
     "text": [
      "welcome to chipotle\n",
      "welcome to chopt\n",
      "welcome to arbys\n"
     ]
    }
   ],
   "source": [
    "for restaurant in ['chipotle', 'chopt', 'arbys']:\n",
    "    print('welcome to ' + restaurant)"
   ]
  },
  {
   "cell_type": "markdown",
   "metadata": {},
   "source": [
    "This works because, as we know our loop moves through each element in our list successively and assigns it to the block variable.  So we just through each element in our list of restaurants, assign the block variable to equal a new restaurant name, and then do something with that restaurant.  \n",
    "\n",
    "Ok, loops take some practice, so it's time to move through a lab in the next lesson."
   ]
  },
  {
   "cell_type": "markdown",
   "metadata": {},
   "source": [
    "### Summary"
   ]
  },
  {
   "cell_type": "markdown",
   "metadata": {},
   "source": [
    "Loops allow us to perform the same operation once for each element in a list.  We write a loop with the pattern of \n",
    "```python\n",
    "for block_variable in our_list:\n",
    "    # do something in block of code\n",
    "```\n",
    "In doing so, our loop moves through the elements in the list one by one, successively setting each element equal to the block variable.  Once the block variable is assigned to a new element, Python executes the block of code in the following lines.\n",
    "\n",
    "It can be difficult to write loops, so it's great to this down into steps.  First, try to perform the procedure on just the first element in the list.  Once that works, identify the code that is repeated for each element in the list, and identify the code that changes as the block variable changes.  Use this technique as you move through the coming lab."
   ]
  }
 ],
 "metadata": {
  "kernelspec": {
   "display_name": "Python 3",
   "language": "python",
   "name": "python3"
  },
  "language_info": {
   "codemirror_mode": {
    "name": "ipython",
    "version": 3
   },
   "file_extension": ".py",
   "mimetype": "text/x-python",
   "name": "python",
   "nbconvert_exporter": "python",
   "pygments_lexer": "ipython3",
   "version": "3.7.0"
  }
 },
 "nbformat": 4,
 "nbformat_minor": 2
}
