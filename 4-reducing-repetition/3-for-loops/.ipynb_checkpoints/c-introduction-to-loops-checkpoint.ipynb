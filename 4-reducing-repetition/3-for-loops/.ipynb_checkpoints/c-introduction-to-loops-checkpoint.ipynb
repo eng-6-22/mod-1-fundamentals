{
 "cells": [
  {
   "cell_type": "markdown",
   "metadata": {},
   "source": [
    "### One more thing"
   ]
  },
  {
   "cell_type": "markdown",
   "metadata": {},
   "source": [
    "Ok, so we printed out a greeting for each restaurant by looping through a list of numbers, and then using that list of numbers to access the list by an index.\n",
    "\n",
    "But we could also just make each restaurant name an element in our list, instead of those numbers."
   ]
  },
  {
   "cell_type": "code",
   "execution_count": 39,
   "metadata": {},
   "outputs": [
    {
     "name": "stdout",
     "output_type": "stream",
     "text": [
      "welcome to chipotle\n",
      "welcome to chopt\n",
      "welcome to arbys\n"
     ]
    }
   ],
   "source": [
    "for restaurant in ['chipotle', 'chopt', 'arbys']:\n",
    "    print('welcome to ' + restaurant)"
   ]
  },
  {
   "cell_type": "markdown",
   "metadata": {},
   "source": [
    "This works because, as we know our loop moves through each element in our list successively and assigns it to the block variable.  So we just through each element in our list of restaurants, assign the block variable to equal a new restaurant name, and then do something with that restaurant.  \n",
    "\n",
    "Ok, loops take some practice, so it's time to move through a lab in the next lesson."
   ]
  }
 ],
 "metadata": {
  "kernelspec": {
   "display_name": "Python 3",
   "language": "python",
   "name": "python3"
  },
  "language_info": {
   "codemirror_mode": {
    "name": "ipython",
    "version": 3
   },
   "file_extension": ".py",
   "mimetype": "text/x-python",
   "name": "python",
   "nbconvert_exporter": "python",
   "pygments_lexer": "ipython3",
   "version": "3.7.3"
  }
 },
 "nbformat": 4,
 "nbformat_minor": 2
}
