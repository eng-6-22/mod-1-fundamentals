{
 "cells": [
  {
   "cell_type": "markdown",
   "metadata": {},
   "source": [
    "### Doing more with block variables"
   ]
  },
  {
   "cell_type": "markdown",
   "metadata": {},
   "source": [
    "There's another nice thing about loops. With loops, the block variable (below `index`) takes turns being each element of the list, in order.  So in the first iteration index is first element 0, then it's the second element 1, and finally 2. "
   ]
  },
  {
   "cell_type": "code",
   "execution_count": 26,
   "metadata": {},
   "outputs": [
    {
     "name": "stdout",
     "output_type": "stream",
     "text": [
      "0\n",
      "1\n",
      "2\n"
     ]
    }
   ],
   "source": [
    "for index in [0, 1, 2]:\n",
    "    print(index)"
   ]
  },
  {
   "cell_type": "markdown",
   "metadata": {},
   "source": [
    "So in the for loop above, we iterate through the block `print(index)` three times.  On the first iteration index equals 0, on the second iteration `index` equals 1, and on the last iteration index equals 2.  The code below shows the for loop followed by a deconstruction into each iteration."
   ]
  },
  {
   "cell_type": "code",
   "execution_count": null,
   "metadata": {},
   "outputs": [],
   "source": [
    "# entire loop\n",
    "for index in [0, 1, 2]:\n",
    "    print(index)\n",
    "    \n",
    "# deconstructed into iterations\n",
    "\n",
    "# 1st iteration\n",
    "index = 0\n",
    "print(index)\n",
    "\n",
    "# 2nd iteration\n",
    "index = 1\n",
    "print(index)\n",
    "\n",
    "# 3rd iteration\n",
    "index = 2\n",
    "print(index)"
   ]
  },
  {
   "cell_type": "markdown",
   "metadata": {},
   "source": [
    "### Moving onto restaurants"
   ]
  },
  {
   "cell_type": "markdown",
   "metadata": {},
   "source": [
    "Deconstructing what our loop does, or what we want it to do is a *very helpful* technique for programming.  Let's try this technique in writing a t 'Welcome to ' followed by the restaurant name for each restaurant in a list.  Here is our list."
   ]
  },
  {
   "cell_type": "code",
   "execution_count": 24,
   "metadata": {},
   "outputs": [],
   "source": [
    "restaurants = ['chipotle', 'chopt', 'arbys']"
   ]
  },
  {
   "cell_type": "markdown",
   "metadata": {},
   "source": [
    "Ok, now let's write out this procedure without using a loop."
   ]
  },
  {
   "cell_type": "code",
   "execution_count": 25,
   "metadata": {},
   "outputs": [
    {
     "name": "stdout",
     "output_type": "stream",
     "text": [
      "welcome to chipotle\n",
      "welcome to chopt\n",
      "welcome to arbys\n"
     ]
    }
   ],
   "source": [
    "print('welcome to ' + restaurants[0])\n",
    "print('welcome to ' + restaurants[1])\n",
    "print('welcome to ' + restaurants[2])"
   ]
  },
  {
   "cell_type": "markdown",
   "metadata": {},
   "source": [
    "This looks like our code deconstructing our loop above.  In fact, if we use loop to successively assign the numbers 0, 1, and 2 to index.  We can code out 'welcome to' and then access the element at the 0 index, then the element at the 1 index and so on.  Let's see it in action."
   ]
  },
  {
   "cell_type": "code",
   "execution_count": 30,
   "metadata": {},
   "outputs": [
    {
     "name": "stdout",
     "output_type": "stream",
     "text": [
      "welcome to chipotle\n"
     ]
    }
   ],
   "source": [
    "# 1st iteration\n",
    "index = 0\n",
    "print('welcome to ' + restaurants[index])"
   ]
  },
  {
   "cell_type": "code",
   "execution_count": 32,
   "metadata": {},
   "outputs": [
    {
     "name": "stdout",
     "output_type": "stream",
     "text": [
      "welcome to chopt\n"
     ]
    }
   ],
   "source": [
    "# 2nd iteration\n",
    "index = 1\n",
    "print('welcome to ' + restaurants[index])"
   ]
  },
  {
   "cell_type": "code",
   "execution_count": 33,
   "metadata": {},
   "outputs": [
    {
     "name": "stdout",
     "output_type": "stream",
     "text": [
      "welcome to arbys\n"
     ]
    }
   ],
   "source": [
    "# 3rd iteration\n",
    "index = 2\n",
    "print('welcome to ' + restaurants[index])"
   ]
  },
  {
   "cell_type": "markdown",
   "metadata": {},
   "source": [
    "Ok, so now we need to use a for loop to reassign index to equal the numbers 0, then 1, then 2.  Let's try it."
   ]
  },
  {
   "cell_type": "code",
   "execution_count": 34,
   "metadata": {},
   "outputs": [
    {
     "name": "stdout",
     "output_type": "stream",
     "text": [
      "welcome to chipotle\n",
      "welcome to chopt\n",
      "welcome to arbys\n"
     ]
    }
   ],
   "source": [
    "for index in [0, 1, 2]:\n",
    "    print('welcome to ' + restaurants[index])"
   ]
  },
  {
   "cell_type": "markdown",
   "metadata": {},
   "source": [
    "Now, it may seem hard to come up without unless you go through the steps.  So...go through the steps.  A technique we love here, is when trying to do something for a list of elements with a loop, first do it with one element.  \n",
    "\n",
    "Let's practice this procedure with printing out the capitalization of each restaurant.  Ok, so step one is to just try this with one restaurant."
   ]
  },
  {
   "cell_type": "code",
   "execution_count": 36,
   "metadata": {},
   "outputs": [
    {
     "name": "stdout",
     "output_type": "stream",
     "text": [
      "Chipotle\n"
     ]
    }
   ],
   "source": [
    "print(restaurants[0].capitalize())"
   ]
  },
  {
   "cell_type": "markdown",
   "metadata": {},
   "source": [
    "Now that line above will become the content of our block in the loop we are about to write.  The data that works for our first iteration but needs to be changed afterwards, here the number 0, will become the first element of our list.  We replace that number with our block variable."
   ]
  },
  {
   "cell_type": "code",
   "execution_count": 38,
   "metadata": {},
   "outputs": [
    {
     "name": "stdout",
     "output_type": "stream",
     "text": [
      "Chipotle\n",
      "Chopt\n",
      "Arbys\n"
     ]
    }
   ],
   "source": [
    "for index in [0, 1, 2]:\n",
    "    print(restaurants[index].capitalize())"
   ]
  },
  {
   "cell_type": "markdown",
   "metadata": {},
   "source": [
    "> If you follow this procedure with working with loops, things will become a lot easier.  And you want to practice this procedure when things are easy so that you can lean on it when things become more tricky.\n"
   ]
  }
 ],
 "metadata": {
  "kernelspec": {
   "display_name": "Python 3",
   "language": "python",
   "name": "python3"
  },
  "language_info": {
   "codemirror_mode": {
    "name": "ipython",
    "version": 3
   },
   "file_extension": ".py",
   "mimetype": "text/x-python",
   "name": "python",
   "nbconvert_exporter": "python",
   "pygments_lexer": "ipython3",
   "version": "3.7.3"
  }
 },
 "nbformat": 4,
 "nbformat_minor": 2
}
