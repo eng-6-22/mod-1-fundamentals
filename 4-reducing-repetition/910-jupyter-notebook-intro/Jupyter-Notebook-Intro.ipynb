{
 "cells": [
  {
   "cell_type": "markdown",
   "metadata": {},
   "source": [
    "### Getting started With Python"
   ]
  },
  {
   "cell_type": "markdown",
   "metadata": {},
   "source": [
    "In this lesson, we'll start programming.  Our motivation for learning programming isn't an undying love of computers, but because programming can allow us to automate processes, and once we setup that automation, we can continue to reap the automation.          \n",
    "\n",
    "Now, for data scientists that repetitive task is gathering information and organizing information.  Of course non-data scientists do the same thing, whether searching through ads on craigslist, or finding a place to eat, or entering  information for our job.       \n",
    "\n",
    "In a few lessons, we'll learn how to use programming to retrieve information about restaurants from Yelp.  But for now, we have to understand how to write our first piece of code."
   ]
  },
  {
   "cell_type": "markdown",
   "metadata": {},
   "source": [
    "### Our environment: Introduction to Jupyter"
   ]
  },
  {
   "cell_type": "markdown",
   "metadata": {},
   "source": [
    "Now the programming language we'll be working with is Python.  It's a good choice.  It has a lot of great data science libraries, is one of the most popular programming languages, and can be used for anything from data science to building websites.  \n",
    "\n",
    "To use Python, you need to be in the correct type of document.  It just so happens that we are. Here is addition in Python."
   ]
  },
  {
   "cell_type": "code",
   "execution_count": 11,
   "metadata": {},
   "outputs": [
    {
     "data": {
      "text/plain": [
       "7"
      ]
     },
     "execution_count": 11,
     "metadata": {},
     "output_type": "execute_result"
    }
   ],
   "source": [
    "3 + 4"
   ]
  },
  {
   "cell_type": "markdown",
   "metadata": {},
   "source": [
    "The reason why this works is because we are inside of a Jupyter Notebook.  Jupyter notebooks do two main things.  They display text, and they can evaluate code.  Notice that unlike a normal document, in the gray cell above we didn't just print the text `3 + 4`, but calculated it in Python. "
   ]
  },
  {
   "cell_type": "markdown",
   "metadata": {},
   "source": [
    "### Coding in Jupyter"
   ]
  },
  {
   "cell_type": "markdown",
   "metadata": {},
   "source": [
    "<img src=\"jupyter-python.gif\" width=\"40%\" />"
   ]
  },
  {
   "cell_type": "code",
   "execution_count": null,
   "metadata": {},
   "outputs": [],
   "source": []
  },
  {
   "cell_type": "markdown",
   "metadata": {},
   "source": [
    "### Creating our own cells and escape mode"
   ]
  },
  {
   "cell_type": "markdown",
   "metadata": {},
   "source": [
    "Ok, so we just saw how we can write code in a cell.  What if we want to create a new cell.  Well we just press the letter `b`.  To delete a cell, just press the character `x`."
   ]
  },
  {
   "cell_type": "markdown",
   "metadata": {},
   "source": [
    "If you typed `b` and created a new cell, you used your first shortcut in Jupyter.  To use a Jupyter shortcut, we need to first make sure that we are in **escape mode**.  What's that?  Well if you look at the video above, you'll notice that the video starts off without any blinking cursor on the gray cell.  That's escape mode. Notice that it switches to **insert mode**, when we click on the cell.  \n",
    "\n",
    "If you ever see that blinking cursor, and want to use a shortcut in escape mode, you can just press on the `escape` key.  "
   ]
  },
  {
   "cell_type": "markdown",
   "metadata": {},
   "source": [
    "### Writing text in a Jupyter Notebook"
   ]
  },
  {
   "cell_type": "markdown",
   "metadata": {},
   "source": [
    "So we just saw how to create and then delete cells in Jupyter with the `b` and `x` keys.  And we saw that we can evaluate code in a cell by pressing `shift` and `enter`.  What if we want to write text?  \n",
    "\n",
    "Well first enter escape mode, and then create a new cell.  If you look at the top of the file, you'll see a dropdown that says either `Code` or `Markdown`."
   ]
  },
  {
   "cell_type": "markdown",
   "metadata": {},
   "source": [
    "<img src=\"top-toolbar.png\" />"
   ]
  },
  {
   "cell_type": "markdown",
   "metadata": {},
   "source": [
    "That dropdown changes based on whether the highlighted cell, that is the cell with the blue bar next to it, is for code, or for text (really markdown, whatever that means)."
   ]
  },
  {
   "cell_type": "markdown",
   "metadata": {},
   "source": [
    "Now we can change a cell from one to the other.  Let's try to make the cell below go from code to markdown. Ok, so first ensure the cell is highlighted by looking for the blue bar to the left, then enter escape mode, and finally go to markdown by typing the letter `m`.  To change the cell to a code cell, enter escape mode and type the letter `y`.  "
   ]
  },
  {
   "cell_type": "markdown",
   "metadata": {},
   "source": []
  },
  {
   "cell_type": "markdown",
   "metadata": {},
   "source": [
    "Let's try to write some text in a cell that is in code mode."
   ]
  },
  {
   "cell_type": "code",
   "execution_count": 15,
   "metadata": {},
   "outputs": [
    {
     "ename": "SyntaxError",
     "evalue": "invalid syntax (<ipython-input-15-61f88c124e77>, line 1)",
     "output_type": "error",
     "traceback": [
      "\u001b[0;36m  File \u001b[0;32m\"<ipython-input-15-61f88c124e77>\"\u001b[0;36m, line \u001b[0;32m1\u001b[0m\n\u001b[0;31m    Uh oh\u001b[0m\n\u001b[0m        ^\u001b[0m\n\u001b[0;31mSyntaxError\u001b[0m\u001b[0;31m:\u001b[0m invalid syntax\n"
     ]
    }
   ],
   "source": [
    "Uh oh"
   ]
  },
  {
   "cell_type": "markdown",
   "metadata": {},
   "source": [
    "Jupyter is trying to evaluate Python, but the code we wrote above isn't valid Python.  In the next lesson we'll get started learning how to work with Python."
   ]
  },
  {
   "cell_type": "markdown",
   "metadata": {},
   "source": [
    "### Summary"
   ]
  },
  {
   "cell_type": "markdown",
   "metadata": {},
   "source": [
    "In this lesson, we learned about Jupyter Notebooks.  Jupyter Notebooks are documents that allow us to write both code and markdown (which is essentially text).  We saw that we can create cells to either write code or markdown inside of our notebook by first pressing escape to ensure we are in escape mode, and then pressing `b` to create a new cell.  Once we create a new cell (and while in escape mode) we can change our cell to markdown by pressing `m` or to code by pressing `y`.  In the next lesson, we'll dive into Python.   "
   ]
  },
  {
   "cell_type": "markdown",
   "metadata": {},
   "source": [
    "Yes, what you are seeing is real Python code.  It works because we are inside of a Jupyter Notebook, a tool data scientists use to  "
   ]
  },
  {
   "cell_type": "markdown",
   "metadata": {},
   "source": [
    "Here is addition in Python."
   ]
  },
  {
   "cell_type": "markdown",
   "metadata": {},
   "source": [
    "Here, we'll imagine that we are a consultant for restaurants, and need to gather data on popular new restaurants in New York.  Just like we might as a non-data scientist, we'll search Yelp to gather information.  But now we'll do this using Python to gather a lot more information, and automate the process. "
   ]
  },
  {
   "cell_type": "markdown",
   "metadata": {},
   "source": [
    "programming languages organize information -- for example, between numbers and text. "
   ]
  },
  {
   "cell_type": "code",
   "execution_count": null,
   "metadata": {},
   "outputs": [],
   "source": []
  }
 ],
 "metadata": {
  "kernelspec": {
   "display_name": "Python 3",
   "language": "python",
   "name": "python3"
  },
  "language_info": {
   "codemirror_mode": {
    "name": "ipython",
    "version": 3
   },
   "file_extension": ".py",
   "mimetype": "text/x-python",
   "name": "python",
   "nbconvert_exporter": "python",
   "pygments_lexer": "ipython3",
   "version": "3.7.0"
  }
 },
 "nbformat": 4,
 "nbformat_minor": 2
}
