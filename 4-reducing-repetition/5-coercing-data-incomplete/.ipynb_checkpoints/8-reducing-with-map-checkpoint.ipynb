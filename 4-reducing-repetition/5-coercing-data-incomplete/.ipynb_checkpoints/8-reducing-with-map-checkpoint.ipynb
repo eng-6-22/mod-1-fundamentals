{
 "cells": [
  {
   "cell_type": "markdown",
   "metadata": {},
   "source": [
    "# Simplifying with Map"
   ]
  },
  {
   "cell_type": "markdown",
   "metadata": {},
   "source": [
    "### Introduction"
   ]
  },
  {
   "cell_type": "markdown",
   "metadata": {},
   "source": [
    "Now that we have some experience working with lists and dictionaries, one thing that we may notice is that we really don't need a lot of the information that we start off with.  An easy way to work with this, is to simply remove the extra information that we don't need."
   ]
  },
  {
   "cell_type": "markdown",
   "metadata": {},
   "source": [
    "Let's start with employee information again."
   ]
  },
  {
   "cell_type": "markdown",
   "metadata": {},
   "source": [
    "### Exploring our Employees"
   ]
  },
  {
   "cell_type": "markdown",
   "metadata": {},
   "source": [
    "Ok, so imagine that we have a list of employees."
   ]
  },
  {
   "cell_type": "code",
   "execution_count": 44,
   "metadata": {},
   "outputs": [],
   "source": [
    "employees = [\n",
    "    {'name': 'amelia', 'birth_year': '1989' ,'days_available': []},\n",
    "    {'name': 'olivia', 'birth_year': '1992', 'days_available': ['Monday', 'Tuesday', 'Saturday', 'Sunday']},\n",
    "    {'name': 'sam', 'birth_year': '1995' ,'days_available': ['Thursday', 'Saturday']},\n",
    "    {'name': 'patrina', 'birth_year': '1992' ,'days_available': ['Saturday', 'Sunday']},\n",
    "]"
   ]
  },
  {
   "cell_type": "markdown",
   "metadata": {},
   "source": [
    "## Reducing our information"
   ]
  },
  {
   "cell_type": "markdown",
   "metadata": {},
   "source": [
    "### Some more practice"
   ]
  },
  {
   "cell_type": "markdown",
   "metadata": {},
   "source": [
    "### Using map to create smaller dictionaries"
   ]
  }
 ],
 "metadata": {
  "kernelspec": {
   "display_name": "Python 3",
   "language": "python",
   "name": "python3"
  },
  "language_info": {
   "codemirror_mode": {
    "name": "ipython",
    "version": 3
   },
   "file_extension": ".py",
   "mimetype": "text/x-python",
   "name": "python",
   "nbconvert_exporter": "python",
   "pygments_lexer": "ipython3",
   "version": "3.7.0"
  }
 },
 "nbformat": 4,
 "nbformat_minor": 2
}
