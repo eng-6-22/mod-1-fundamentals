{
 "cells": [
  {
   "cell_type": "markdown",
   "metadata": {},
   "source": [
    "### Summary"
   ]
  },
  {
   "cell_type": "markdown",
   "metadata": {},
   "source": [
    "In this lesson, we learned about function arguments.  Arguments to a function make our functions more flexible by allowing us to specify what type of data our function will be working with each time that we execute the function.  \n",
    "\n",
    "We declare a function with an argument by placing a argument name inside of the function's parentheses: `def capitalize_names(names):`.  Then when we execute our function, we can pass through our names `capitalize_names(['sally', 'susan'])`, and the function will use the data provided everytime that it sees the argument `names`. "
   ]
  }
 ],
 "metadata": {
  "kernelspec": {
   "display_name": "Python 3",
   "language": "python",
   "name": "python3"
  },
  "language_info": {
   "codemirror_mode": {
    "name": "ipython",
    "version": 3
   },
   "file_extension": ".py",
   "mimetype": "text/x-python",
   "name": "python",
   "nbconvert_exporter": "python",
   "pygments_lexer": "ipython3",
   "version": "3.7.3"
  }
 },
 "nbformat": 4,
 "nbformat_minor": 2
}
