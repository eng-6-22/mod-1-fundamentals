{
 "cells": [
  {
   "cell_type": "markdown",
   "metadata": {},
   "source": [
    "# String Methods"
   ]
  },
  {
   "cell_type": "markdown",
   "metadata": {},
   "source": [
    "### Loading our some data"
   ]
  },
  {
   "cell_type": "markdown",
   "metadata": {},
   "source": [
    "In this lesson, we'll work with data regarding Midwestern cities.  Now the data we'll be working with is available on [this Wikipedia page]('https://en.wikipedia.org/wiki/List_of_Midwestern_cities_by_size').  But unfortunately, it is not formatted in a way that pandas can understand it.  \n",
    "\n",
    "So instead we just copied and pasted the data below.  And assigned it to a variable."
   ]
  },
  {
   "cell_type": "code",
   "execution_count": 2,
   "metadata": {},
   "outputs": [],
   "source": [
    "cities_text = \"\"\"Chicago, Illinois; 2,722,586\n",
    "Indianapolis, Indiana; 853,431\n",
    "Columbus, Ohio; 852,144\n",
    "Detroit, Michigan; 679,865\n",
    "Milwaukee, Wisconsin; 599,086\n",
    "Kansas City, Missouri; 476,974\n",
    "Omaha, Nebraska; 463,081\n",
    "Minneapolis, Minnesota; 411,452\n",
    "Wichita, Kansas; 389,054\n",
    "Cleveland, Ohio; 388,812\n",
    "St. Louis, Missouri; 314,867\n",
    "St. Paul, Minnesota; 300,820\n",
    "Cincinnati, Ohio; 298,957\n",
    "Toledo, Ohio; 279,455\n",
    "Lincoln, Nebraska; 277,315\n",
    "Fort Wayne, Indiana; 262,450\n",
    "Madison, Wisconsin; 248,856\n",
    "Des Moines, Iowa; 214,778\n",
    "Aurora, Illinois; 200,946\n",
    "Grand Rapids, Michigan; 195,355\n",
    "Akron, Ohio; 198,252\n",
    "Overland Park, Kansas; 186,147\n",
    "Sioux Falls, South Dakota; 170,401\n",
    "Springfield, Missouri; 165,785\n",
    "Kansas City, Kansas; 151,042\n",
    "Rockford, Illinois; 148,640\n",
    "Joliet, Illinois; 148,172\n",
    "Naperville, Illinois; 146,431\n",
    "Dayton, Ohio; 140,939\n",
    "Warren, Michigan; 135,147\n",
    "Olathe, Kansas; 134,368\n",
    "Sterling Heights, Michigan; 131,996\n",
    "Cedar Rapids, Iowa; 130,330\n",
    "Topeka, Kansas; 127,139\n",
    "Evansville, Indiana; 119,806\n",
    "Ann Arbor, Michigan; 119,303\n",
    "Columbia, Missouri; 118,620\n",
    "Fargo, North Dakota; 118,099\n",
    "Independence, Missouri; 117,369\n",
    "Springfield, Illinois; 116,313\n",
    "Peoria, Illinois; 115,424\n",
    "Lansing, Michigan; 115,222\n",
    "Rochester, Minnesota; 112,683\n",
    "Elgin, Illinois; 112,628\n",
    "Green Bay, Wisconsin; 104,796\n",
    "Davenport, Iowa; 102,268\n",
    "South Bend, Indiana; 101,928\"\"\""
   ]
  },
  {
   "cell_type": "markdown",
   "metadata": {},
   "source": [
    "> Notice that we wrapped the string in triple quotes so that our string could span multiple lines."
   ]
  },
  {
   "cell_type": "markdown",
   "metadata": {},
   "source": [
    "To begin, select just the first 100 characters from the string to take a closer look at the data."
   ]
  },
  {
   "cell_type": "code",
   "execution_count": 21,
   "metadata": {},
   "outputs": [
    {
     "data": {
      "text/plain": [
       "'Chicago, Illinois; 2,722,586\\nIndianapolis, Indiana; 853,431\\nColumbus, Ohio; 852,144\\nDetroit, Michiga'"
      ]
     },
     "execution_count": 21,
     "metadata": {},
     "output_type": "execute_result"
    }
   ],
   "source": [
    "\n",
    "\n",
    "# 'Chicago, Illinois; 2,722,586\\nIndianapolis, Indiana; 853,431\\nColumbus, Ohio; \n",
    "# 852,144\\nDetroit, Michiga'"
   ]
  },
  {
   "cell_type": "markdown",
   "metadata": {},
   "source": [
    "So we can see that the pattern for each row of data is: \n",
    "    \n",
    "`city, State; 9,999,999 \\n`"
   ]
  },
  {
   "cell_type": "markdown",
   "metadata": {},
   "source": [
    "Now currently our data is simply one long string.  Calculate the number of characters in the string."
   ]
  },
  {
   "cell_type": "code",
   "execution_count": 15,
   "metadata": {},
   "outputs": [
    {
     "data": {
      "text/plain": [
       "1313"
      ]
     },
     "execution_count": 15,
     "metadata": {},
     "output_type": "execute_result"
    }
   ],
   "source": [
    "\n",
    "\n",
    "# 1313"
   ]
  },
  {
   "cell_type": "markdown",
   "metadata": {},
   "source": [
    "Ok, it's a good idea if we begin to organize this string a bit better.  Let's begin by splitting the data by each line.\n",
    "\n",
    "> It may feel a little tricky, but try some different methods.  You can always google if you get stuck."
   ]
  },
  {
   "cell_type": "code",
   "execution_count": 22,
   "metadata": {},
   "outputs": [],
   "source": [
    "city_rows = None"
   ]
  },
  {
   "cell_type": "code",
   "execution_count": 24,
   "metadata": {},
   "outputs": [],
   "source": [
    "city_rows[:3]\n",
    "\n",
    "# ['Chicago, Illinois; 2,722,586',\n",
    "#  'Indianapolis, Indiana; 853,431',\n",
    "#  'Columbus, Ohio; 852,144']"
   ]
  },
  {
   "cell_type": "markdown",
   "metadata": {},
   "source": [
    "Next, let's select the first element from the list."
   ]
  },
  {
   "cell_type": "code",
   "execution_count": 19,
   "metadata": {},
   "outputs": [],
   "source": [
    "city = None\n",
    "\n",
    "\n",
    "city\n",
    "# 'Chicago, Illinois; 2,722,586'"
   ]
  },
  {
   "cell_type": "markdown",
   "metadata": {},
   "source": [
    "Ideally, we can organize this as a dictionary.  Where we have the city, state, and population values. \n",
    "\n",
    "First use split to divide the data between `city_and_state` and `population`."
   ]
  },
  {
   "cell_type": "code",
   "execution_count": 36,
   "metadata": {},
   "outputs": [],
   "source": [
    "city_and_state = None\n",
    "\n",
    "population = None"
   ]
  },
  {
   "cell_type": "code",
   "execution_count": 39,
   "metadata": {},
   "outputs": [
    {
     "data": {
      "text/plain": [
       "'Chicago, Illinois'"
      ]
     },
     "execution_count": 39,
     "metadata": {},
     "output_type": "execute_result"
    }
   ],
   "source": [
    "city_and_state\n",
    "# 'Chicago, Illinois'"
   ]
  },
  {
   "cell_type": "code",
   "execution_count": 40,
   "metadata": {},
   "outputs": [
    {
     "data": {
      "text/plain": [
       "'2,722,586'"
      ]
     },
     "execution_count": 40,
     "metadata": {},
     "output_type": "execute_result"
    }
   ],
   "source": [
    "population\n",
    "\n",
    "# '2,722,586'"
   ]
  },
  {
   "cell_type": "markdown",
   "metadata": {},
   "source": [
    "Now separate `city_and_state` into `city_name` and `state`."
   ]
  },
  {
   "cell_type": "code",
   "execution_count": 25,
   "metadata": {},
   "outputs": [],
   "source": [
    "\n",
    "\n",
    "city_name = None\n",
    "\n",
    "state = None\n",
    "# ['Chicago', 'Illinois']"
   ]
  },
  {
   "cell_type": "code",
   "execution_count": 26,
   "metadata": {},
   "outputs": [],
   "source": [
    "city_name\n",
    "\n",
    "# 'Chicago'"
   ]
  },
  {
   "cell_type": "code",
   "execution_count": 27,
   "metadata": {},
   "outputs": [],
   "source": [
    "state\n",
    "\n",
    "# 'Illinois'"
   ]
  },
  {
   "cell_type": "markdown",
   "metadata": {},
   "source": [
    "### Now a bit harder"
   ]
  },
  {
   "cell_type": "markdown",
   "metadata": {},
   "source": [
    "Ok, now that we explored how to work individually on a row, let's get into this.  Let's now write code to start with the text in our variable `cities_text`.  And end with the variable `cities` with cities is a list of dictionaries with keys of `city`, `state`, and `population`."
   ]
  },
  {
   "cell_type": "code",
   "execution_count": 3,
   "metadata": {},
   "outputs": [
    {
     "data": {
      "text/plain": [
       "'Chicago, Illinois; 2,722,586\\nIndianapolis, Indiana; 853,431\\nColumbus, Ohio; 852,144\\nDetroit, Michiga'"
      ]
     },
     "execution_count": 3,
     "metadata": {},
     "output_type": "execute_result"
    }
   ],
   "source": [
    "cities_text[:100]\n",
    "\n",
    "# 'Chicago, Illinois; 2,722,586\\nIndianapolis, Indiana; 853,431\\nColumbus, Ohio;\n",
    "# 852,144\\nDetroit, Michiga'"
   ]
  },
  {
   "cell_type": "code",
   "execution_count": 10,
   "metadata": {},
   "outputs": [],
   "source": [
    "# fill in code here\n"
   ]
  },
  {
   "cell_type": "code",
   "execution_count": 12,
   "metadata": {},
   "outputs": [
    {
     "data": {
      "text/plain": [
       "[{'city': 'Chicago', 'state': 'Illinois', 'population': '2,722,586'},\n",
       " {'city': 'Indianapolis', 'state': 'Indiana', 'population': '853,431'},\n",
       " {'city': 'Columbus', 'state': 'Ohio', 'population': '852,144'}]"
      ]
     },
     "execution_count": 12,
     "metadata": {},
     "output_type": "execute_result"
    }
   ],
   "source": [
    "cities[:3]\n",
    "\n",
    "# [{'city': 'Chicago', 'state': 'Illinois', 'population': '2,722,586'},\n",
    "#  {'city': 'Indianapolis', 'state': 'Indiana', 'population': '853,431'},\n",
    "#  {'city': 'Columbus', 'state': 'Ohio', 'population': '852,144'}]"
   ]
  },
  {
   "cell_type": "markdown",
   "metadata": {},
   "source": [
    "Now, one issue with the code above is that we would really like the population to be an integer, not a string.  So copy the code that we have above into the cell below, and update the code to make population an integer."
   ]
  },
  {
   "cell_type": "markdown",
   "metadata": {},
   "source": [
    "> See if you can involve the `join` method to accomplish this step."
   ]
  },
  {
   "cell_type": "code",
   "execution_count": 14,
   "metadata": {},
   "outputs": [],
   "source": [
    "# fill in code here"
   ]
  },
  {
   "cell_type": "code",
   "execution_count": 15,
   "metadata": {},
   "outputs": [
    {
     "data": {
      "text/plain": [
       "[{'city': 'Chicago', 'state': 'Illinois', 'population': 2722586},\n",
       " {'city': 'Indianapolis', 'state': 'Indiana', 'population': 853431},\n",
       " {'city': 'Columbus', 'state': 'Ohio', 'population': 852144}]"
      ]
     },
     "execution_count": 15,
     "metadata": {},
     "output_type": "execute_result"
    }
   ],
   "source": [
    "cities[:3]\n",
    "\n",
    "# [{'city': 'Chicago', 'state': 'Illinois', 'population': 2722586},\n",
    "#  {'city': 'Indianapolis', 'state': 'Indiana', 'population': 853431},\n",
    "#  {'city': 'Columbus', 'state': 'Ohio', 'population': 852144}]"
   ]
  },
  {
   "cell_type": "markdown",
   "metadata": {},
   "source": [
    "Ok, now that's better."
   ]
  },
  {
   "cell_type": "markdown",
   "metadata": {},
   "source": [
    "### Summary"
   ]
  },
  {
   "cell_type": "markdown",
   "metadata": {},
   "source": [
    "In this lesson, we practiced using the split and join methods to start with some raw text and organize it into a more easy to use list of dictionaries.\n",
    "\n",
    "Also pay attention to the workflow that we used.  \n",
    "\n",
    "1. Perform on one, then all\n",
    "\n",
    "Above, we first selected a single row of data.  "
   ]
  },
  {
   "cell_type": "code",
   "execution_count": 20,
   "metadata": {},
   "outputs": [
    {
     "data": {
      "text/plain": [
       "'Chicago, Illinois; 2,722,586'"
      ]
     },
     "execution_count": 20,
     "metadata": {},
     "output_type": "execute_result"
    }
   ],
   "source": [
    "city_rows[0]"
   ]
  },
  {
   "cell_type": "markdown",
   "metadata": {},
   "source": [
    "The we worked on solving making progress with just a single row of data.  Only after feeling comfortable in working through the problem on a single element did we then move to the loop of data."
   ]
  },
  {
   "cell_type": "markdown",
   "metadata": {},
   "source": [
    "2. Iterate on our solution"
   ]
  },
  {
   "cell_type": "markdown",
   "metadata": {},
   "source": [
    "In working with through the loop of data, we first were satisfied with a partially working solution: a list of dictionaries where all data was a string.  Only after getting that working did we then move onto converting our population into an integer.  "
   ]
  },
  {
   "cell_type": "markdown",
   "metadata": {},
   "source": [
    "> Finding ways to break down our coding problems into steps and making the problem easier, will be a critical skillset moving forward."
   ]
  }
 ],
 "metadata": {
  "kernelspec": {
   "display_name": "Python 3",
   "language": "python",
   "name": "python3"
  },
  "language_info": {
   "codemirror_mode": {
    "name": "ipython",
    "version": 3
   },
   "file_extension": ".py",
   "mimetype": "text/x-python",
   "name": "python",
   "nbconvert_exporter": "python",
   "pygments_lexer": "ipython3",
   "version": "3.8.3"
  }
 },
 "nbformat": 4,
 "nbformat_minor": 4
}
