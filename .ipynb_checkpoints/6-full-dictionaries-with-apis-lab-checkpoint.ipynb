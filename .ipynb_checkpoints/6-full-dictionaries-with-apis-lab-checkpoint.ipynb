{
 "cells": [
  {
   "cell_type": "markdown",
   "metadata": {},
   "source": [
    "# Dictionaries with APIs"
   ]
  },
  {
   "cell_type": "markdown",
   "metadata": {},
   "source": [
    "### Introduction"
   ]
  },
  {
   "cell_type": "markdown",
   "metadata": {},
   "source": [
    "Now that we have better explored lists, strings, and dictionaries, we can explore additional data from Max's Wine Bar.  "
   ]
  },
  {
   "cell_type": "code",
   "execution_count": 1,
   "metadata": {},
   "outputs": [],
   "source": [
    "import pandas as pd\n",
    "df = pd.read_json('https://raw.githubusercontent.com/eng-6-22/mod-1-fundamentals/master/restaurant_receipts_2020.json')\n",
    "restaurant_receipts = df.to_dict('records')"
   ]
  },
  {
   "cell_type": "code",
   "execution_count": 3,
   "metadata": {},
   "outputs": [],
   "source": [
    "# restaurant_receipts[:3]"
   ]
  },
  {
   "cell_type": "markdown",
   "metadata": {},
   "source": [
    "We now have returned a list of dictionaries, where each dictionary contains information about a separate month's drink revenue."
   ]
  },
  {
   "cell_type": "code",
   "execution_count": 69,
   "metadata": {},
   "outputs": [
    {
     "data": {
      "text/plain": [
       "[{'taxpayer_number': 12727298569,\n",
       "  'taxpayer_name': 'MWD AUSTIN DOWNTOWN, LLC',\n",
       "  'taxpayer_address': '7026 OLD KATY RD STE 255',\n",
       "  'taxpayer_city': 'HOUSTON',\n",
       "  'taxpayer_state': 'TX',\n",
       "  'taxpayer_zip': 77024,\n",
       "  'taxpayer_county': 101,\n",
       "  'location_number': 1,\n",
       "  'location_name': \"MAX'S WINE DIVE\",\n",
       "  'location_address': '207 SAN JACINTO BLVD STE 200',\n",
       "  'location_city': 'AUSTIN',\n",
       "  'location_state': 'TX',\n",
       "  'location_zip': 78701,\n",
       "  'location_county': 227,\n",
       "  'inside_outside_city_limits_code_y_n': 'Y',\n",
       "  'tabc_permit_number': 'MB944126',\n",
       "  'responsibility_begin_date_yyyymmdd': '2016-05-13T00:00:00.000',\n",
       "  'obligation_end_date_yyyymmdd': '2020-08-31T00:00:00.000',\n",
       "  'liquor_receipts': 0,\n",
       "  'wine_receipts': 0,\n",
       "  'beer_receipts': 0,\n",
       "  'cover_charge_receipts': 0,\n",
       "  'total_receipts': 0,\n",
       "  'responsibility_end_date_yyyymmdd': None},\n",
       " {'taxpayer_number': 12727298569,\n",
       "  'taxpayer_name': 'MWD AUSTIN DOWNTOWN, LLC',\n",
       "  'taxpayer_address': '7026 OLD KATY RD STE 255',\n",
       "  'taxpayer_city': 'HOUSTON',\n",
       "  'taxpayer_state': 'TX',\n",
       "  'taxpayer_zip': 77024,\n",
       "  'taxpayer_county': 101,\n",
       "  'location_number': 1,\n",
       "  'location_name': \"MAX'S WINE DIVE\",\n",
       "  'location_address': '207 SAN JACINTO BLVD STE 200',\n",
       "  'location_city': 'AUSTIN',\n",
       "  'location_state': 'TX',\n",
       "  'location_zip': 78701,\n",
       "  'location_county': 227,\n",
       "  'inside_outside_city_limits_code_y_n': 'Y',\n",
       "  'tabc_permit_number': 'MB944126',\n",
       "  'responsibility_begin_date_yyyymmdd': '2016-05-13T00:00:00.000',\n",
       "  'obligation_end_date_yyyymmdd': '2020-07-31T00:00:00.000',\n",
       "  'liquor_receipts': 620,\n",
       "  'wine_receipts': 1812,\n",
       "  'beer_receipts': 476,\n",
       "  'cover_charge_receipts': 0,\n",
       "  'total_receipts': 2908,\n",
       "  'responsibility_end_date_yyyymmdd': None}]"
      ]
     },
     "execution_count": 69,
     "metadata": {},
     "output_type": "execute_result"
    }
   ],
   "source": [
    "restaurant_receipts[:2]"
   ]
  },
  {
   "cell_type": "markdown",
   "metadata": {},
   "source": [
    "So while each dictionary is fairly large, in the end it is just a list of dictionaries which we have seen before."
   ]
  },
  {
   "cell_type": "markdown",
   "metadata": {},
   "source": [
    "```python\n",
    "restaurant_receipts\n",
    "# [{receipt1}, {receipt2}]\n",
    "```"
   ]
  },
  {
   "cell_type": "markdown",
   "metadata": {},
   "source": [
    "Ok, let's use our knowledge of datatypes to explore and organize this data."
   ]
  },
  {
   "cell_type": "markdown",
   "metadata": {},
   "source": [
    "### Starting Broad"
   ]
  },
  {
   "cell_type": "markdown",
   "metadata": {},
   "source": [
    "Begin by calculating the number of elements in our list of receipts."
   ]
  },
  {
   "cell_type": "code",
   "execution_count": 5,
   "metadata": {},
   "outputs": [
    {
     "data": {
      "text/plain": [
       "77"
      ]
     },
     "execution_count": 5,
     "metadata": {},
     "output_type": "execute_result"
    }
   ],
   "source": [
    "\n",
    "# 77"
   ]
  },
  {
   "cell_type": "markdown",
   "metadata": {},
   "source": [
    "So it looks like there are 77 restaurant receipts that are returned.  Now let's select the first receipt and take a look at it."
   ]
  },
  {
   "cell_type": "markdown",
   "metadata": {},
   "source": [
    "> Select the first receipt below and assign it to the variable receipt."
   ]
  },
  {
   "cell_type": "code",
   "execution_count": 1,
   "metadata": {},
   "outputs": [],
   "source": [
    "receipt = None\n",
    "receipt\n",
    "\n",
    "# {'taxpayer_number': 12727298569,\n",
    "#  'taxpayer_name': 'MWD AUSTIN DOWNTOWN, LLC',\n",
    "#  'taxpayer_address': '7026 OLD KATY RD STE 255',\n",
    "#  'taxpayer_city': 'HOUSTON',\n",
    "#  'taxpayer_state': 'TX',\n",
    "#  'taxpayer_zip': 77024,\n",
    "#  'taxpayer_county': 101,\n",
    "# ...\n",
    "# 'cover_charge_receipts': 0,\n",
    "#  'total_receipts': 0,\n",
    "#  'responsibility_end_date_yyyymmdd': None}"
   ]
  },
  {
   "cell_type": "markdown",
   "metadata": {},
   "source": [
    "Ok, so there's our dictionary."
   ]
  },
  {
   "cell_type": "markdown",
   "metadata": {},
   "source": [
    "Now let's see what information is available in our dictionary.  Return all of the keys available, and assign them to the variable `receipt_attributes`."
   ]
  },
  {
   "cell_type": "code",
   "execution_count": 8,
   "metadata": {},
   "outputs": [
    {
     "data": {
      "text/plain": [
       "dict_keys(['taxpayer_number', 'taxpayer_name', 'taxpayer_address', 'taxpayer_city', 'taxpayer_state', 'taxpayer_zip', 'taxpayer_county', 'location_number', 'location_name', 'location_address', 'location_city', 'location_state', 'location_zip', 'location_county', 'inside_outside_city_limits_code_y_n', 'tabc_permit_number', 'responsibility_begin_date_yyyymmdd', 'obligation_end_date_yyyymmdd', 'liquor_receipts', 'wine_receipts', 'beer_receipts', 'cover_charge_receipts', 'total_receipts'])"
      ]
     },
     "execution_count": 8,
     "metadata": {},
     "output_type": "execute_result"
    }
   ],
   "source": [
    "receipt_attributes = None\n",
    "receipt_attributes\n",
    "\n",
    "# dict_keys(['taxpayer_number', 'taxpayer_name', 'taxpayer_address', 'taxpayer_city', 'taxpayer_state', 'taxpayer_zip', 'taxpayer_county', 'location_number', 'location_name', 'location_address', 'location_city', 'location_state', 'location_zip', 'location_county', 'inside_outside_city_limits_code_y_n', 'tabc_permit_number', 'responsibility_begin_date_yyyymmdd', 'obligation_end_date_yyyymmdd', 'liquor_receipts', \n",
    "#            'wine_receipts', 'beer_receipts', 'cover_charge_receipts', 'total_receipts'])"
   ]
  },
  {
   "cell_type": "markdown",
   "metadata": {},
   "source": [
    "Now, that's a lot of attributes.  Let's see how many."
   ]
  },
  {
   "cell_type": "code",
   "execution_count": 10,
   "metadata": {},
   "outputs": [
    {
     "data": {
      "text/plain": [
       "23"
      ]
     },
     "execution_count": 10,
     "metadata": {},
     "output_type": "execute_result"
    }
   ],
   "source": [
    "num_attributes = None\n",
    "\n",
    "num_attributes\n",
    "# 23"
   ]
  },
  {
   "cell_type": "markdown",
   "metadata": {},
   "source": [
    "And to better organize the data we have, let's sort those attribute alphabetically."
   ]
  },
  {
   "cell_type": "code",
   "execution_count": 78,
   "metadata": {},
   "outputs": [],
   "source": [
    "sorted_attrs = None\n",
    "\n",
    "sorted_attrs[:10]\n",
    "\n",
    "# ['beer_receipts', 'cover_charge_receipts', 'inside_outside_city_limits_code_y_n',\n",
    "#  'liquor_receipts', 'location_address', 'location_city', 'location_county',\n",
    "#  'location_name', 'location_number', 'location_state']"
   ]
  },
  {
   "cell_type": "markdown",
   "metadata": {},
   "source": [
    "Ok, now we can focus in on a few of our attributes.  We can perhaps reduce down the number of attributes by selecting just the values that change over time.  For example, are there multiple locations of Max's wine bar?  \n",
    "\n",
    "First create a list that has the `location_address` in each dictionary."
   ]
  },
  {
   "cell_type": "markdown",
   "metadata": {},
   "source": [
    "> Assign the result to the variable `location_addresses`."
   ]
  },
  {
   "cell_type": "code",
   "execution_count": 79,
   "metadata": {},
   "outputs": [],
   "source": [
    "location_addresses = None"
   ]
  },
  {
   "cell_type": "code",
   "execution_count": 17,
   "metadata": {},
   "outputs": [
    {
     "data": {
      "text/plain": [
       "['207 SAN JACINTO BLVD STE 200',\n",
       " '207 SAN JACINTO BLVD STE 200',\n",
       " '207 SAN JACINTO BLVD STE 200']"
      ]
     },
     "execution_count": 17,
     "metadata": {},
     "output_type": "execute_result"
    }
   ],
   "source": [
    "location_addresses[:3]\n",
    "\n",
    "# ['207 SAN JACINTO BLVD STE 200',\n",
    "#  '207 SAN JACINTO BLVD STE 200',\n",
    "#  '207 SAN JACINTO BLVD STE 200']"
   ]
  },
  {
   "cell_type": "markdown",
   "metadata": {},
   "source": [
    "Then turn this into a unique list of locations."
   ]
  },
  {
   "cell_type": "code",
   "execution_count": 16,
   "metadata": {},
   "outputs": [
    {
     "data": {
      "text/plain": [
       "['3600 MCKINNEY AVE STE 100', '207 SAN JACINTO BLVD STE 200']"
      ]
     },
     "execution_count": 16,
     "metadata": {},
     "output_type": "execute_result"
    }
   ],
   "source": [
    "unique_locations = None\n",
    "\n",
    "unique_locations\n",
    "\n",
    "# ['3600 MCKINNEY AVE STE 100', '207 SAN JACINTO BLVD STE 200']"
   ]
  },
  {
   "cell_type": "markdown",
   "metadata": {},
   "source": [
    "Ok, so it looks like we have two different locations of Max's Wine Bar.  \n",
    "\n",
    "Now let's begin to reduce the amount information in our dictionary.  Let's select just the key value pairs of `total_receipts`, `obligation_end_date_yyyymmdd`, and `location_address`.\n",
    "\n",
    "Assign the result to the variable `abridged_receipts`."
   ]
  },
  {
   "cell_type": "code",
   "execution_count": 28,
   "metadata": {},
   "outputs": [],
   "source": [
    "abridged_receipts = None"
   ]
  },
  {
   "cell_type": "code",
   "execution_count": 29,
   "metadata": {},
   "outputs": [
    {
     "data": {
      "text/plain": [
       "[{'total_receipts': '0',\n",
       "  'obligation_end_date_yyyymmdd': '2020-08-31T00:00:00.000',\n",
       "  'location_address': '207 SAN JACINTO BLVD STE 200'},\n",
       " {'total_receipts': '2908',\n",
       "  'obligation_end_date_yyyymmdd': '2020-07-31T00:00:00.000',\n",
       "  'location_address': '207 SAN JACINTO BLVD STE 200'},\n",
       " {'total_receipts': '9322',\n",
       "  'obligation_end_date_yyyymmdd': '2020-06-30T00:00:00.000',\n",
       "  'location_address': '207 SAN JACINTO BLVD STE 200'}]"
      ]
     },
     "execution_count": 29,
     "metadata": {},
     "output_type": "execute_result"
    }
   ],
   "source": [
    "abridged_receipts[:3]\n",
    "\n",
    "# [{'total_receipts': '0',\n",
    "#   'obligation_end_date_yyyymmdd': '2020-08-31T00:00:00.000',\n",
    "#   'location_address': '207 SAN JACINTO BLVD STE 200'},\n",
    "#  {'total_receipts': '2908',\n",
    "#   'obligation_end_date_yyyymmdd': '2020-07-31T00:00:00.000',\n",
    "#   'location_address': '207 SAN JACINTO BLVD STE 200'},\n",
    "#  {'total_receipts': '9322',\n",
    "#   'obligation_end_date_yyyymmdd': '2020-06-30T00:00:00.000',\n",
    "#   'location_address': '207 SAN JACINTO BLVD STE 200'}]\n"
   ]
  },
  {
   "cell_type": "markdown",
   "metadata": {},
   "source": [
    "Ok, now let's clean up some of our resulting data.  To begin with, instead of `obligation-end_date_yyyymmdd`, let's create separate keys of year and month, and store the respective values.  In addition let's coerce each `total_receipts`, `year` and `month` value to an integer.  Finally, let's only store the first fifteen characters of the location address.\n",
    "\n",
    "Store the new result in the variable `clean_receipts`."
   ]
  },
  {
   "cell_type": "markdown",
   "metadata": {},
   "source": [
    "> We can start from our existing `abridged_receipts` data and keep going from there. "
   ]
  },
  {
   "cell_type": "code",
   "execution_count": 54,
   "metadata": {},
   "outputs": [],
   "source": [
    "clean_receipts = None"
   ]
  },
  {
   "cell_type": "code",
   "execution_count": 80,
   "metadata": {},
   "outputs": [],
   "source": [
    "clean_receipts[:5]\n",
    "\n",
    "# [{'year': 2020, 'month': 8, 'total': 0, 'location_address': '207 SAN JACINTO'},\n",
    "#  {'year': 2020,\n",
    "#   'month': 7,\n",
    "#   'total': 2908,\n",
    "#   'location_address': '207 SAN JACINTO'},\n",
    "#  {'year': 2020,\n",
    "#   'month': 6,\n",
    "#   'total': 9322,\n",
    "#   'location_address': '207 SAN JACINTO'},\n",
    "#  {'year': 2020,\n",
    "#   'month': 5,\n",
    "#   'total': 3421,\n",
    "#   'location_address': '207 SAN JACINTO'},\n",
    "#  {'year': 2020,\n",
    "#   'month': 4,\n",
    "#   'total': 90,\n",
    "#   'location_address': '207 SAN JACINTO'}]"
   ]
  },
  {
   "cell_type": "markdown",
   "metadata": {},
   "source": [
    "### Bonus"
   ]
  },
  {
   "cell_type": "markdown",
   "metadata": {},
   "source": [
    "Notice that we can use the `sorted` method to sort our data by a specific attribute.  See if you can figure out how this works."
   ]
  },
  {
   "cell_type": "code",
   "execution_count": 62,
   "metadata": {},
   "outputs": [
    {
     "data": {
      "text/plain": [
       "[{'year': 2020, 'month': 8, 'total': 0, 'location_address': '207 SAN JACINTO'},\n",
       " {'year': 2015, 'month': 8, 'total': 0, 'location_address': '3600 MCKINNEY A'},\n",
       " {'year': 2020,\n",
       "  'month': 4,\n",
       "  'total': 90,\n",
       "  'location_address': '207 SAN JACINTO'},\n",
       " {'year': 2020,\n",
       "  'month': 7,\n",
       "  'total': 2908,\n",
       "  'location_address': '207 SAN JACINTO'},\n",
       " {'year': 2020,\n",
       "  'month': 5,\n",
       "  'total': 3421,\n",
       "  'location_address': '207 SAN JACINTO'}]"
      ]
     },
     "execution_count": 62,
     "metadata": {},
     "output_type": "execute_result"
    }
   ],
   "source": [
    "sorted(clean_receipts, key=lambda receipt: receipt['total'])[:5]"
   ]
  },
  {
   "cell_type": "markdown",
   "metadata": {},
   "source": [
    "> See if you can sort the data by year."
   ]
  },
  {
   "cell_type": "code",
   "execution_count": 81,
   "metadata": {},
   "outputs": [],
   "source": [
    "receipts_sorted_year = None\n",
    "\n",
    "receipts_sorted_year[:5]\n",
    "\n",
    "# [{'year': 2015,\n",
    "#   'month': 9,\n",
    "#   'total': 66609,\n",
    "#   'location_address': '3600 MCKINNEY A'},\n",
    "#  {'year': 2015, 'month': 8, 'total': 0, 'location_address': '3600 MCKINNEY A'},\n",
    "#  {'year': 2015,\n",
    "#   'month': 11,\n",
    "#   'total': 69664,\n",
    "#   'location_address': '3600 MCKINNEY A'},\n",
    "#  {'year': 2015,\n",
    "#   'month': 12,\n",
    "#   'total': 72238,\n",
    "#   'location_address': '3600 MCKINNEY A'},\n",
    "#  {'year': 2015,\n",
    "#   'month': 10,\n",
    "#   'total': 67048,\n",
    "#   'location_address': '3600 MCKINNEY A'}]"
   ]
  },
  {
   "cell_type": "markdown",
   "metadata": {},
   "source": [
    "### Summary"
   ]
  },
  {
   "cell_type": "markdown",
   "metadata": {},
   "source": [
    "In this lesson we started with a messy dataset and made our data more managable by:\n",
    "\n",
    "1. Limiting the number of attributes in each dictionary\n",
    "2. Coercing our data to more appropriate datatype (integers for dates and revenue, shorter strings).\n",
    "\n",
    "Once we did so, sorting and exploring our data became easier.\n",
    "\n",
    "We also used our knowledge of datatypes explore our data by finding the number of locations we would be handling receipts of."
   ]
  },
  {
   "cell_type": "markdown",
   "metadata": {},
   "source": [
    "### Resources"
   ]
  },
  {
   "cell_type": "markdown",
   "metadata": {},
   "source": [
    "[Mixed Beverage API](https://data.texas.gov/Government-and-Taxes/Mixed-Beverage-Gross-Receipts/naix-2893)"
   ]
  }
 ],
 "metadata": {
  "kernelspec": {
   "display_name": "Python 3 (ipykernel)",
   "language": "python",
   "name": "python3"
  },
  "language_info": {
   "codemirror_mode": {
    "name": "ipython",
    "version": 3
   },
   "file_extension": ".py",
   "mimetype": "text/x-python",
   "name": "python",
   "nbconvert_exporter": "python",
   "pygments_lexer": "ipython3",
   "version": "3.9.10"
  }
 },
 "nbformat": 4,
 "nbformat_minor": 4
}
